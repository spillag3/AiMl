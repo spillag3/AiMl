{
 "cells": [
  {
   "cell_type": "markdown",
   "id": "723e90f4",
   "metadata": {
    "id": "723e90f4"
   },
   "source": [
    "# PYTHON PROGRAMMING LANGUAGE"
   ]
  },
  {
   "cell_type": "markdown",
   "id": "38e60bb7",
   "metadata": {
    "id": "38e60bb7"
   },
   "source": [
    "# What is python?\n",
    "\n",
    "1.Python is powerful programming language.\n",
    "\n",
    "2.Specially used in data science,machine learning to solve daily life real-time problems and providing the solutions.\n",
    "\n",
    "3.Python is a high-level,intrepeted,interactive and object oriented scripting langauge."
   ]
  },
  {
   "cell_type": "markdown",
   "id": "74c60035",
   "metadata": {
    "id": "74c60035"
   },
   "source": [
    "# History of Python language:\n",
    "    \n",
    "1.Python was developed by \"Guido Van Rossum\" in late 1980's in National Research Institute for Mathematics and Computer Science in Netherlands.\n",
    "\n",
    "2.Python was derived from many other languages including ABC,Modulo-3,C,C++,Algol=68,SmallTalk,Unix shell and other scripting languages."
   ]
  },
  {
   "cell_type": "markdown",
   "id": "862f8577",
   "metadata": {
    "id": "862f8577"
   },
   "source": [
    "# Why python?\n",
    "\n",
    "1.Easy to understand\n",
    "\n",
    "2.Easy syntax\n",
    "\n",
    "3.Beginner friendly\n",
    "\n",
    "4.Supports multiple libraries \n",
    "\n",
    "5.Supports OOP's\n",
    "\n",
    "6.Easy installation"
   ]
  },
  {
   "cell_type": "markdown",
   "id": "caa53a25",
   "metadata": {
    "id": "caa53a25"
   },
   "source": [
    "# Applications of python\n",
    "\n",
    "1.Web applications\n",
    "\n",
    "2.Desktop applications\n",
    "\n",
    "3.Database applications\n",
    "\n",
    "4.Web scraping\n",
    "\n",
    "5.Wen mapping\n",
    "\n",
    "6.Data analysis\n",
    "\n",
    "7.Interactive web visualization\n",
    "\n",
    "8.Computer vision and image processing etc.,"
   ]
  },
  {
   "cell_type": "markdown",
   "id": "2c8f4928",
   "metadata": {
    "id": "2c8f4928"
   },
   "source": [
    "# INTERNAL WORKING OF PYTHON\n",
    "\n"
   ]
  },
  {
   "cell_type": "markdown",
   "id": "34c1515d",
   "metadata": {
    "id": "34c1515d"
   },
   "source": [
    "# 1.Python identifiers:\n",
    "\n",
    "1.A Python identifier is a name used to identify variable,function,class ,module or other objects.\n",
    "\n",
    "2.A identifier starts with a letter (a-z),(A-Z) or an underscore(_) followed by zero or more letters,and digits(0-9)."
   ]
  },
  {
   "cell_type": "markdown",
   "id": "bde86f1c",
   "metadata": {
    "id": "bde86f1c"
   },
   "source": [
    "# Naming conventions for identifiers:\n",
    "    \n",
    "1.class names start with an uppercase letter .All the other identifiers start with a lower case letter.\n",
    "\n",
    "2.Starting an identifier with a single leading underscore indicates that the identifier is \"private\".\n",
    "\n",
    "3.starting an identifier with two leading underscores indicates \"strongly private\".\n",
    "\n",
    "4.If the identifier also ends with two trailing underscore ,the identifier is a language defined special name.\n"
   ]
  },
  {
   "cell_type": "markdown",
   "id": "2605732a",
   "metadata": {
    "id": "2605732a"
   },
   "source": [
    "# Python keywords:\n",
    "    \n",
    "1.Keywords are reserved words.\n",
    "\n",
    "2.cannot use them as constant or varaible.\n",
    "\n",
    "3.all the keywords except \"True\",\"False\" and \"None\" are in lower case.\n",
    "\n",
    "4.they are 35 keywords present in python"
   ]
  },
  {
   "cell_type": "code",
   "execution_count": null,
   "id": "081e2b29",
   "metadata": {
    "id": "081e2b29",
    "outputId": "a47497bb-7eb9-434e-c538-004e66fd33a3"
   },
   "outputs": [
    {
     "name": "stdout",
     "output_type": "stream",
     "text": [
      "['False', 'None', 'True', 'and', 'as', 'assert', 'async', 'await', 'break', 'class', 'continue', 'def', 'del', 'elif', 'else', 'except', 'finally', 'for', 'from', 'global', 'if', 'import', 'in', 'is', 'lambda', 'nonlocal', 'not', 'or', 'pass', 'raise', 'return', 'try', 'while', 'with', 'yield']\n",
      "35\n"
     ]
    }
   ],
   "source": [
    "#code to print all the keywords present in python\n",
    "import keyword\n",
    "print(keyword.kwlist)\n",
    "a=len(keyword.kwlist)\n",
    "print(a)"
   ]
  },
  {
   "cell_type": "markdown",
   "id": "e2baad9b",
   "metadata": {
    "id": "e2baad9b"
   },
   "source": [
    "# Indentation in python:\n",
    "    \n",
    "1.In C,C++,the indentation is specified by using the flower brackdets{}.\n",
    "\n",
    "2.In python,indentation is done by 4 white spaces or tab.\n",
    "\n"
   ]
  },
  {
   "cell_type": "markdown",
   "id": "027fef28",
   "metadata": {
    "id": "027fef28"
   },
   "source": [
    "# Python comments:\n",
    "\n",
    "In python we have 2 types of comments such as follow:\n",
    "\n",
    "1.single line comment(specified using single or double quotes).\n",
    "\n",
    "2.multi line comment(specified using doc sring).\n"
   ]
  },
  {
   "cell_type": "code",
   "execution_count": null,
   "id": "1cd2ed12",
   "metadata": {
    "id": "1cd2ed12",
    "outputId": "e764786f-a28c-479e-cd77-1e19a11cd5a9"
   },
   "outputs": [
    {
     "name": "stdout",
     "output_type": "stream",
     "text": [
      "hello my dear friends\n"
     ]
    }
   ],
   "source": [
    "#single line comment--->shows the single line comment.\n",
    "print('hello my dear friends')"
   ]
  },
  {
   "cell_type": "code",
   "execution_count": null,
   "id": "8b3024f9",
   "metadata": {
    "id": "8b3024f9",
    "outputId": "66385bc7-82d3-4c52-fb5c-1cea8222ebb0"
   },
   "outputs": [
    {
     "name": "stdout",
     "output_type": "stream",
     "text": [
      "hello CSE people\n"
     ]
    }
   ],
   "source": [
    "\"\"\"\n",
    "multi line comment\n",
    "how are you all\n",
    "have a nice day guys\n",
    "\"\"\"\n",
    "print('hello CSE people')"
   ]
  },
  {
   "cell_type": "markdown",
   "id": "5416e550",
   "metadata": {
    "id": "5416e550"
   },
   "source": [
    "# PYTHON VARIABLES:\n",
    "1.Variables are nothing but reserved memory locations to store values.\n",
    "\n",
    "2.When we create a varaible ,automatically some space in memory is reserved.\n",
    "\n",
    "3.Based on the data types the interpreter allocates the memory.\n",
    "\n",
    "4.Varaible can take any data type such as integer,float numbers,strings etc."
   ]
  },
  {
   "cell_type": "code",
   "execution_count": null,
   "id": "d3dab9c3",
   "metadata": {
    "id": "d3dab9c3",
    "outputId": "d2a34282-aed0-41e3-c508-b664ad5d32c6"
   },
   "outputs": [
    {
     "name": "stdout",
     "output_type": "stream",
     "text": [
      "100\n"
     ]
    },
    {
     "data": {
      "text/plain": [
       "'hello'"
      ]
     },
     "execution_count": 45,
     "metadata": {},
     "output_type": "execute_result"
    }
   ],
   "source": [
    "#exampl1:\n",
    "#here 3 variables have been created and stored the values as shown below\n",
    "a=50\n",
    "b=50\n",
    "c=a+b\n",
    "print(c)\n",
    "\n",
    "#example 2 on strings\n",
    "\n",
    "x='hello'\n",
    "x\n"
   ]
  },
  {
   "cell_type": "markdown",
   "id": "48120e6e",
   "metadata": {
    "id": "48120e6e"
   },
   "source": [
    "# Python Data types:\n",
    "\n",
    "1.Integer data type\n",
    "\n",
    "2.Float point numbers\n",
    "\n",
    "3.Strings data type\n",
    "\n",
    "4.Boolean data type\n",
    "\n",
    "note:Python accepts all types datas as listed above.\n",
    "    \n",
    "\n"
   ]
  },
  {
   "cell_type": "markdown",
   "id": "49a08288",
   "metadata": {
    "id": "49a08288"
   },
   "source": [
    "# Python Data Structures\n",
    "\n",
    "1.In python we have four types of data structures \n",
    "\n",
    "2.These data structures are very useful and important while working with advance topics such as machine learning ,data science.\n",
    "\n",
    "1.List\n",
    "\n",
    "2.Tuple\n",
    "\n",
    "3.Dictionary\n",
    "\n",
    "4.Sets\n",
    "\n"
   ]
  },
  {
   "cell_type": "markdown",
   "id": "4ca8f028",
   "metadata": {
    "id": "4ca8f028"
   },
   "source": [
    "# 1.LISTS IN PYTHON:\n",
    "\n",
    "*List is a python data structure \n",
    "\n",
    "*it is a combination of any data type.\n",
    "\n",
    "*enclosed within [] and separated by commas(,).\n",
    "\n",
    "*list is sequence of values called items or elements.\n",
    "\n",
    "*list is similar arrays.\n",
    "\n",
    "*list mutable.\n",
    "\n",
    "*list is indexible.\n"
   ]
  },
  {
   "cell_type": "code",
   "execution_count": null,
   "id": "a084b8f6",
   "metadata": {
    "id": "a084b8f6",
    "outputId": "21801310-4891-4696-e1d2-6d45c7662aa1"
   },
   "outputs": [
    {
     "name": "stdout",
     "output_type": "stream",
     "text": [
      "[1, 2, 3, 4, 5]\n",
      "[2.4, 7.0, 6.8]\n",
      "['hello', 'students']\n"
     ]
    }
   ],
   "source": [
    "#Creating a list with constructor()\n",
    "a=([1,2,3,4,5])\n",
    "b=([2.4,7.0,6.8])\n",
    "c=(['hello','students'])\n",
    "print(a)\n",
    "print(b)\n",
    "print(c)"
   ]
  },
  {
   "cell_type": "code",
   "execution_count": null,
   "id": "6e48746c",
   "metadata": {
    "id": "6e48746c",
    "outputId": "efe207be-dd7d-4b1b-82fc-5b9c792660ca"
   },
   "outputs": [
    {
     "data": {
      "text/plain": [
       "list"
      ]
     },
     "execution_count": 47,
     "metadata": {},
     "output_type": "execute_result"
    }
   ],
   "source": [
    "type(a)"
   ]
  },
  {
   "cell_type": "code",
   "execution_count": null,
   "id": "a6c6d5e6",
   "metadata": {
    "id": "a6c6d5e6",
    "outputId": "444b9737-f5aa-46de-bdda-5afe8112f5e4"
   },
   "outputs": [
    {
     "data": {
      "text/plain": [
       "['hello', 8, 9, 20.77]"
      ]
     },
     "execution_count": 48,
     "metadata": {},
     "output_type": "execute_result"
    }
   ],
   "source": [
    "#creating list with heterogenous data:\n",
    "\n",
    "a=(['hello',8,9,20.77])\n",
    "a"
   ]
  },
  {
   "cell_type": "code",
   "execution_count": null,
   "id": "16cb08d5",
   "metadata": {
    "id": "16cb08d5",
    "outputId": "bfd678c0-e82d-4bb1-e1ad-c2e9d8a7c328"
   },
   "outputs": [
    {
     "name": "stdout",
     "output_type": "stream",
     "text": [
      "[0, 1, 2, 3, 4, 5]\n"
     ]
    }
   ],
   "source": [
    "#create list using range function:\n",
    "L=list(range(0,6))\n",
    "print(L)"
   ]
  },
  {
   "cell_type": "code",
   "execution_count": null,
   "id": "fd0678e9",
   "metadata": {
    "id": "fd0678e9",
    "outputId": "04f4f021-ae8e-4a71-a15a-95d0f325e9bf"
   },
   "outputs": [
    {
     "data": {
      "text/plain": [
       "['monday', 'tuesday', 'wednesday', 'thursday', 'friday', 'saturday', 'sunday']"
      ]
     },
     "execution_count": 50,
     "metadata": {},
     "output_type": "execute_result"
    }
   ],
   "source": [
    "#creating a list without constructor():\n",
    "\n",
    "days=['monday','tuesday','wednesday','thursday','friday','saturday','sunday']\n",
    "days"
   ]
  },
  {
   "cell_type": "code",
   "execution_count": null,
   "id": "ee351295",
   "metadata": {
    "id": "ee351295",
    "outputId": "c5495d8f-61ef-4ca9-ea39-5f7c16e6afd2"
   },
   "outputs": [
    {
     "data": {
      "text/plain": [
       "'tuesday'"
      ]
     },
     "execution_count": 51,
     "metadata": {},
     "output_type": "execute_result"
    }
   ],
   "source": [
    "#accesing list items using index values:\n",
    "\n",
    "days[1]"
   ]
  },
  {
   "cell_type": "code",
   "execution_count": null,
   "id": "8d681926",
   "metadata": {
    "id": "8d681926",
    "outputId": "3de35425-0090-47cf-a1e4-b1355f15068e"
   },
   "outputs": [
    {
     "data": {
      "text/plain": [
       "'sunday'"
      ]
     },
     "execution_count": 52,
     "metadata": {},
     "output_type": "execute_result"
    }
   ],
   "source": [
    "#negative indexing:\n",
    "\n",
    "#creating a list without constructor():\n",
    "\n",
    "days=['monday','tuesday','wednesday','thursday','friday','saturday','sunday']\n",
    "days[-1]"
   ]
  },
  {
   "cell_type": "code",
   "execution_count": null,
   "id": "00e9ba37",
   "metadata": {
    "id": "00e9ba37",
    "outputId": "fe884718-df0c-40d5-d1b4-3a54c0561763"
   },
   "outputs": [
    {
     "data": {
      "text/plain": [
       "['monday', 'tuesday', 'wednesday', 'thursday', 'friday', 'saturday', 'sunday']"
      ]
     },
     "execution_count": 53,
     "metadata": {},
     "output_type": "execute_result"
    }
   ],
   "source": [
    "days[:]"
   ]
  },
  {
   "cell_type": "code",
   "execution_count": null,
   "id": "c9a54b53",
   "metadata": {
    "id": "c9a54b53",
    "outputId": "e0ae5b8f-b890-45de-93f7-de68f6da7e0b"
   },
   "outputs": [
    {
     "data": {
      "text/plain": [
       "['tuesday', 'wednesday', 'thursday']"
      ]
     },
     "execution_count": 54,
     "metadata": {},
     "output_type": "execute_result"
    }
   ],
   "source": [
    "#list slicing:\n",
    "days[1:4]"
   ]
  },
  {
   "cell_type": "code",
   "execution_count": null,
   "id": "db57ca16",
   "metadata": {
    "id": "db57ca16",
    "outputId": "92848bbc-3c4a-4660-c133-d81cec3de9a6"
   },
   "outputs": [
    {
     "data": {
      "text/plain": [
       "['tuesday', 'thursday']"
      ]
     },
     "execution_count": 55,
     "metadata": {},
     "output_type": "execute_result"
    }
   ],
   "source": [
    "#list slicing with step size:\n",
    "\n",
    "days=['monday','tuesday','wednesday','thursday','friday','saturday','sunday']\n",
    "days[1:4:2]"
   ]
  },
  {
   "cell_type": "markdown",
   "id": "e445a986",
   "metadata": {
    "id": "e445a986"
   },
   "source": [
    "# List built-in function:\n",
    "   "
   ]
  },
  {
   "cell_type": "markdown",
   "id": "536aa33e",
   "metadata": {
    "id": "536aa33e"
   },
   "source": [
    "![functions.png](attachment:functions.png)"
   ]
  },
  {
   "cell_type": "code",
   "execution_count": null,
   "id": "e7c0c697",
   "metadata": {
    "id": "e7c0c697",
    "outputId": "75cc257a-5dbe-43f0-e71d-564d7c6332a3"
   },
   "outputs": [
    {
     "data": {
      "text/plain": [
       "7"
      ]
     },
     "execution_count": 56,
     "metadata": {},
     "output_type": "execute_result"
    }
   ],
   "source": [
    "#example1:\n",
    "days=['monday','tuesday','wednesday','thursday','friday','saturday','sunday']\n",
    "len(days)"
   ]
  },
  {
   "cell_type": "code",
   "execution_count": null,
   "id": "f662bfc7",
   "metadata": {
    "id": "f662bfc7",
    "outputId": "65a015cb-e157-4c6f-e034-4f265f1096e9"
   },
   "outputs": [
    {
     "data": {
      "text/plain": [
       "8"
      ]
     },
     "execution_count": 57,
     "metadata": {},
     "output_type": "execute_result"
    }
   ],
   "source": [
    "numbers=[1,2,3,4,5,6,7,8]\n",
    "max(numbers)"
   ]
  },
  {
   "cell_type": "code",
   "execution_count": null,
   "id": "2d3b2efc",
   "metadata": {
    "id": "2d3b2efc",
    "outputId": "15873721-4caa-4c59-a4f2-cd35286ccf7a"
   },
   "outputs": [
    {
     "data": {
      "text/plain": [
       "1"
      ]
     },
     "execution_count": 58,
     "metadata": {},
     "output_type": "execute_result"
    }
   ],
   "source": [
    "numbers=[1,2,3,4,5,6,7,8]\n",
    "min(numbers)"
   ]
  },
  {
   "cell_type": "code",
   "execution_count": null,
   "id": "e7f01821",
   "metadata": {
    "id": "e7f01821",
    "outputId": "652e91fc-7e0a-484c-da9b-ffac40b1e5ef"
   },
   "outputs": [
    {
     "data": {
      "text/plain": [
       "36"
      ]
     },
     "execution_count": 59,
     "metadata": {},
     "output_type": "execute_result"
    }
   ],
   "source": [
    "numbers=[1,2,3,4,5,6,7,8]\n",
    "sum(numbers)"
   ]
  },
  {
   "cell_type": "code",
   "execution_count": null,
   "id": "eac8f613",
   "metadata": {
    "id": "eac8f613",
    "outputId": "eadb7245-7ff0-4b0a-a576-ee599bdad93d"
   },
   "outputs": [
    {
     "name": "stdout",
     "output_type": "stream",
     "text": [
      "[1, 8, 6, 7, 3, 5, 4, 2]\n"
     ]
    }
   ],
   "source": [
    "import random\n",
    "numbers=[1,2,3,4,5,6,7,8]\n",
    "random.shuffle(numbers)\n",
    "print(numbers)"
   ]
  },
  {
   "cell_type": "markdown",
   "id": "d40cde06",
   "metadata": {
    "id": "d40cde06"
   },
   "source": [
    "# List Operators"
   ]
  },
  {
   "cell_type": "markdown",
   "id": "de7d09a1",
   "metadata": {
    "id": "de7d09a1"
   },
   "source": [
    "![list%20operators.png](attachment:list%20operators.png)"
   ]
  },
  {
   "cell_type": "code",
   "execution_count": null,
   "id": "a391a72d",
   "metadata": {
    "id": "a391a72d",
    "outputId": "b70300fe-78ad-474c-df9a-0f5c61ae3bfc"
   },
   "outputs": [
    {
     "name": "stdout",
     "output_type": "stream",
     "text": [
      "[1, 2, 3, 4, 5, 6]\n"
     ]
    }
   ],
   "source": [
    "#examples on operator:\n",
    "\n",
    "a=[1,2,3]\n",
    "b=[4,5,6]\n",
    "c=a+b\n",
    "print(c)"
   ]
  },
  {
   "cell_type": "code",
   "execution_count": null,
   "id": "56fbaf9d",
   "metadata": {
    "id": "56fbaf9d",
    "outputId": "1784cd90-fd5d-4027-d6fe-01e3aea08a6e"
   },
   "outputs": [
    {
     "name": "stdout",
     "output_type": "stream",
     "text": [
      "[10, 20, 10, 20, 10, 20]\n"
     ]
    }
   ],
   "source": [
    "a=[10,20]\n",
    "b=3*a\n",
    "print(b)\n"
   ]
  },
  {
   "cell_type": "code",
   "execution_count": null,
   "id": "e92509c4",
   "metadata": {
    "id": "e92509c4",
    "outputId": "57527510-883b-4f68-83ee-5b6c862ad8a4"
   },
   "outputs": [
    {
     "data": {
      "text/plain": [
       "True"
      ]
     },
     "execution_count": 64,
     "metadata": {},
     "output_type": "execute_result"
    }
   ],
   "source": [
    "days=['monday','tuesday','wednesday','thursday','friday','saturday','sunday']\n",
    "'wednesday' in days"
   ]
  },
  {
   "cell_type": "code",
   "execution_count": null,
   "id": "89f75e1d",
   "metadata": {
    "id": "89f75e1d",
    "outputId": "9e36cb74-8df2-4115-f07e-cf1e906b3364"
   },
   "outputs": [
    {
     "data": {
      "text/plain": [
       "False"
      ]
     },
     "execution_count": 65,
     "metadata": {},
     "output_type": "execute_result"
    }
   ],
   "source": [
    "days=['monday','tuesday','wednesday','thursday','friday','saturday','sunday']\n",
    "'wednesday' not in days"
   ]
  },
  {
   "cell_type": "code",
   "execution_count": null,
   "id": "0c45dd0c",
   "metadata": {
    "id": "0c45dd0c",
    "outputId": "eaa1a666-1cea-4085-bd96-cda9db21f711"
   },
   "outputs": [
    {
     "data": {
      "text/plain": [
       "True"
      ]
     },
     "execution_count": 66,
     "metadata": {},
     "output_type": "execute_result"
    }
   ],
   "source": [
    "a='Arshiya'\n",
    "b='Arshiya'\n",
    "a is b"
   ]
  },
  {
   "cell_type": "code",
   "execution_count": null,
   "id": "41582f69",
   "metadata": {
    "id": "41582f69",
    "outputId": "d8bb02c8-bab3-4708-81eb-210f8bd42791"
   },
   "outputs": [
    {
     "data": {
      "text/plain": [
       "False"
      ]
     },
     "execution_count": 67,
     "metadata": {},
     "output_type": "execute_result"
    }
   ],
   "source": [
    "a='Arshiya'\n",
    "b='Lubna'\n",
    "a is b"
   ]
  },
  {
   "cell_type": "code",
   "execution_count": null,
   "id": "143160ce",
   "metadata": {
    "id": "143160ce",
    "outputId": "115c5792-0bb6-4b7d-8568-aefb19f9c460"
   },
   "outputs": [
    {
     "data": {
      "text/plain": [
       "['monday', 'wednesday', 'thursday', 'friday', 'saturday', 'sunday']"
      ]
     },
     "execution_count": 69,
     "metadata": {},
     "output_type": "execute_result"
    }
   ],
   "source": [
    "days=['monday','tuesday','wednesday','thursday','friday','saturday','sunday']\n",
    "del[days[1]]\n",
    "days"
   ]
  },
  {
   "cell_type": "markdown",
   "id": "1abb504f",
   "metadata": {
    "id": "1abb504f"
   },
   "source": [
    "# List Methods:"
   ]
  },
  {
   "cell_type": "markdown",
   "id": "4585fef4",
   "metadata": {
    "id": "4585fef4"
   },
   "source": [
    "![methods.png](attachment:methods.png)"
   ]
  },
  {
   "cell_type": "code",
   "execution_count": null,
   "id": "338a7b6d",
   "metadata": {
    "id": "338a7b6d",
    "outputId": "6a79f3e5-2f2b-4255-8338-7051be2c878c"
   },
   "outputs": [
    {
     "name": "stdout",
     "output_type": "stream",
     "text": [
      "['a', 'b', 'c', 'd']\n",
      "['a', 'b', 'c', 'd', 'e']\n"
     ]
    }
   ],
   "source": [
    "a=['a','b','c','d']\n",
    "print(a)\n",
    "a.append('e')\n",
    "print(a)"
   ]
  },
  {
   "cell_type": "code",
   "execution_count": null,
   "id": "d859fe50",
   "metadata": {
    "id": "d859fe50",
    "outputId": "7da2a268-6d80-41d4-c552-5fa0f50e707a"
   },
   "outputs": [
    {
     "name": "stdout",
     "output_type": "stream",
     "text": [
      "['red', 'orange', 'pink', 'black']\n",
      "[]\n"
     ]
    }
   ],
   "source": [
    "list=['red','orange','pink','black']\n",
    "print(list)\n",
    "list.clear()\n",
    "print(list)"
   ]
  },
  {
   "cell_type": "code",
   "execution_count": null,
   "id": "95747e65",
   "metadata": {
    "id": "95747e65",
    "outputId": "3185e84b-b4c2-4e8d-b890-f592f86245d6"
   },
   "outputs": [
    {
     "name": "stdout",
     "output_type": "stream",
     "text": [
      "[1, 2, 3, 4, 1, 4, 1, 7, 8, 1]\n"
     ]
    },
    {
     "data": {
      "text/plain": [
       "4"
      ]
     },
     "execution_count": 72,
     "metadata": {},
     "output_type": "execute_result"
    }
   ],
   "source": [
    "nums=[1,2,3,4,1,4,1,7,8,1]\n",
    "print(nums)\n",
    "nums.count(1)"
   ]
  },
  {
   "cell_type": "code",
   "execution_count": null,
   "id": "3182717f",
   "metadata": {
    "id": "3182717f",
    "outputId": "9af45da1-20ed-439c-f22e-486b66de63ff"
   },
   "outputs": [
    {
     "name": "stdout",
     "output_type": "stream",
     "text": [
      "[1, 2, 3, 4]\n",
      "[1, 2, 3, 4]\n"
     ]
    }
   ],
   "source": [
    "list_1=[1,2,3,4]\n",
    "print(list_1)\n",
    "list_2=list_1.copy()\n",
    "print(list_2)"
   ]
  },
  {
   "cell_type": "code",
   "execution_count": null,
   "id": "bdf62d18",
   "metadata": {
    "id": "bdf62d18",
    "outputId": "7d3c5a65-5232-41d9-da3b-903a93ab856e"
   },
   "outputs": [
    {
     "name": "stdout",
     "output_type": "stream",
     "text": [
      "[1, 3, 2, 4, 5]\n",
      "[5, 6, 7, 3, 6]\n",
      "[1, 3, 2, 4, 5, 5, 6, 7, 3, 6]\n"
     ]
    }
   ],
   "source": [
    "A=[1,3,2,4,5]\n",
    "B=[5,6,7,3,6]\n",
    "print(A)\n",
    "print(B)\n",
    "A.extend(B)\n",
    "print(A)"
   ]
  },
  {
   "cell_type": "markdown",
   "id": "b7a157f7",
   "metadata": {
    "id": "b7a157f7"
   },
   "source": [
    "NOTE:we have many other methods such as index(),insert(),pop(),remove(),reverse(),sort() and so on."
   ]
  },
  {
   "cell_type": "markdown",
   "id": "f0c450b1",
   "metadata": {
    "id": "f0c450b1"
   },
   "source": [
    "# 2.PYTHON TUPLES"
   ]
  },
  {
   "cell_type": "markdown",
   "id": "01621c8e",
   "metadata": {
    "id": "01621c8e"
   },
   "source": [
    "1.Tuple is another important data structures present in python.\n",
    "\n",
    "2.Allow multiple data types.\n",
    "\n",
    "3.Enclosed () and separated by commas(,).\n",
    "\n",
    "4.Tuples are not mutable\n",
    "\n",
    "5.Tuples are indexible\n",
    "\n",
    "6.Tuples are ordered\n"
   ]
  },
  {
   "cell_type": "code",
   "execution_count": 1,
   "id": "cdbc0bfe",
   "metadata": {
    "colab": {
     "base_uri": "https://localhost:8080/"
    },
    "id": "cdbc0bfe",
    "outputId": "2ac7529a-255e-47cd-8b1a-9c1ce2cedd99"
   },
   "outputs": [
    {
     "name": "stdout",
     "output_type": "stream",
     "text": [
      "(5,)\n",
      "<class 'tuple'>\n"
     ]
    }
   ],
   "source": [
    "#creating tuple with single element:\n",
    "\n",
    "a=(5,)\n",
    "print(a)\n",
    "print(type(a))\n",
    "\n"
   ]
  },
  {
   "cell_type": "code",
   "execution_count": 2,
   "id": "e51ea769",
   "metadata": {
    "colab": {
     "base_uri": "https://localhost:8080/"
    },
    "id": "e51ea769",
    "outputId": "e20507e7-c634-4362-9945-c31e9db9779f"
   },
   "outputs": [
    {
     "name": "stdout",
     "output_type": "stream",
     "text": [
      "(1, 2, 3, 4, 5)\n"
     ]
    }
   ],
   "source": [
    "#creating tuple with integers\n",
    "a=(1,2,3,4,5)\n",
    "print(a)"
   ]
  },
  {
   "cell_type": "code",
   "execution_count": 3,
   "id": "ca2b0c32",
   "metadata": {
    "colab": {
     "base_uri": "https://localhost:8080/"
    },
    "id": "ca2b0c32",
    "outputId": "a6406843-1792-4f82-b635-accd2db0942a"
   },
   "outputs": [
    {
     "name": "stdout",
     "output_type": "stream",
     "text": [
      "(6.5, 5.9, 2.0)\n"
     ]
    }
   ],
   "source": [
    "#creating tuple with float numbers\n",
    "b=(6.5,5.9,2.0)\n",
    "print(b)"
   ]
  },
  {
   "cell_type": "code",
   "execution_count": 4,
   "id": "01ae3cb2",
   "metadata": {
    "colab": {
     "base_uri": "https://localhost:8080/"
    },
    "id": "01ae3cb2",
    "outputId": "f8b9e033-c346-43c1-df36-720b57b51497"
   },
   "outputs": [
    {
     "data": {
      "text/plain": [
       "('one', 'two', 'three')"
      ]
     },
     "execution_count": 4,
     "metadata": {},
     "output_type": "execute_result"
    }
   ],
   "source": [
    "#creating tuple with strings\n",
    "c=('one','two','three')\n",
    "c"
   ]
  },
  {
   "cell_type": "code",
   "execution_count": 5,
   "id": "af0eb30d",
   "metadata": {
    "colab": {
     "base_uri": "https://localhost:8080/"
    },
    "id": "af0eb30d",
    "outputId": "5e23c848-67e6-4449-ba5f-a540b69a08c5"
   },
   "outputs": [
    {
     "data": {
      "text/plain": [
       "('hello', 708, 66.8, 1, 2)"
      ]
     },
     "execution_count": 5,
     "metadata": {},
     "output_type": "execute_result"
    }
   ],
   "source": [
    "#creating tuple multiple data types\n",
    "mix=('hello',708,66.8,1,2)\n",
    "mix"
   ]
  },
  {
   "cell_type": "code",
   "execution_count": 6,
   "id": "21e543d0",
   "metadata": {
    "colab": {
     "base_uri": "https://localhost:8080/"
    },
    "id": "21e543d0",
    "outputId": "69cc0e3a-04a8-4c95-af54-c60d6f78fa02"
   },
   "outputs": [
    {
     "name": "stdout",
     "output_type": "stream",
     "text": [
      "hello\n"
     ]
    }
   ],
   "source": [
    "#accessing items of tuple\n",
    "\n",
    "a=(1,2,3,4,'hello')\n",
    "print(a[4])\n"
   ]
  },
  {
   "cell_type": "markdown",
   "id": "7bbec7ee",
   "metadata": {
    "id": "7bbec7ee"
   },
   "source": [
    "# Tuple Methods"
   ]
  },
  {
   "cell_type": "markdown",
   "id": "0d44e5bc",
   "metadata": {
    "id": "0d44e5bc"
   },
   "source": [
    "![tuple%20methods.png](attachment:tuple%20methods.png)"
   ]
  },
  {
   "cell_type": "markdown",
   "id": "09abefaa",
   "metadata": {
    "id": "09abefaa"
   },
   "source": [
    "# 3.Python Dictionary"
   ]
  },
  {
   "cell_type": "markdown",
   "id": "ee7e617c",
   "metadata": {
    "id": "ee7e617c"
   },
   "source": [
    "1.Dictionaries are used to store the values in key-value pair.\n",
    "\n",
    "2.It's a combination of keys and values\n",
    "\n",
    "3.Elements are accessed based on the keys \n",
    "\n",
    "4.It is ordered,mutable,and dont allow duplicate elements.\n",
    "\n",
    "5.Enclosed within {} with key value pair"
   ]
  },
  {
   "cell_type": "code",
   "execution_count": null,
   "id": "a76b6005",
   "metadata": {
    "id": "a76b6005",
    "outputId": "dd634587-b7d7-44c7-ebed-c3d1a344470f"
   },
   "outputs": [
    {
     "name": "stdout",
     "output_type": "stream",
     "text": [
      "{'name': 'joy', 'age': 23, 'education': 'Engineer'}\n"
     ]
    }
   ],
   "source": [
    "#create a dictionary\n",
    "a={\n",
    "    'name':'joy',\n",
    "    'age':23,\n",
    "    'education':'Engineer'\n",
    "}\n",
    "print(a)"
   ]
  },
  {
   "cell_type": "code",
   "execution_count": null,
   "id": "2fc9ea3f",
   "metadata": {
    "id": "2fc9ea3f",
    "outputId": "71182b0e-bb9b-4d3e-ae54-0782435cf1ad"
   },
   "outputs": [
    {
     "data": {
      "text/plain": [
       "3"
      ]
     },
     "execution_count": 88,
     "metadata": {},
     "output_type": "execute_result"
    }
   ],
   "source": [
    "len(a)"
   ]
  },
  {
   "cell_type": "code",
   "execution_count": null,
   "id": "237b0f27",
   "metadata": {
    "id": "237b0f27",
    "outputId": "ba3487c6-b7ec-4e99-9e68-24f401ccc6f2"
   },
   "outputs": [
    {
     "data": {
      "text/plain": [
       "dict"
      ]
     },
     "execution_count": 89,
     "metadata": {},
     "output_type": "execute_result"
    }
   ],
   "source": [
    "type(a)"
   ]
  },
  {
   "cell_type": "code",
   "execution_count": null,
   "id": "61d33149",
   "metadata": {
    "id": "61d33149",
    "outputId": "4533639b-e242-4c88-8a9a-c84c76ee856b"
   },
   "outputs": [
    {
     "data": {
      "text/plain": [
       "dict_keys(['name', 'age', 'education'])"
      ]
     },
     "execution_count": 91,
     "metadata": {},
     "output_type": "execute_result"
    }
   ],
   "source": [
    "x=a.keys()\n",
    "x"
   ]
  },
  {
   "cell_type": "code",
   "execution_count": null,
   "id": "fe7de5ef",
   "metadata": {
    "id": "fe7de5ef",
    "outputId": "343dd121-8e9a-44e8-b56b-20595b1acf18"
   },
   "outputs": [
    {
     "data": {
      "text/plain": [
       "dict_values(['joy', 23, 'Engineer'])"
      ]
     },
     "execution_count": 92,
     "metadata": {},
     "output_type": "execute_result"
    }
   ],
   "source": [
    "y=a.values()\n",
    "y"
   ]
  },
  {
   "cell_type": "code",
   "execution_count": null,
   "id": "886a044a",
   "metadata": {
    "id": "886a044a",
    "outputId": "4ca8474b-5597-4a6d-dd47-b78f31d8f6d3"
   },
   "outputs": [
    {
     "data": {
      "text/plain": [
       "dict_items([('name', 'joy'), ('age', 23), ('education', 'Engineer')])"
      ]
     },
     "execution_count": 93,
     "metadata": {},
     "output_type": "execute_result"
    }
   ],
   "source": [
    "z=a.items()\n",
    "z"
   ]
  },
  {
   "cell_type": "markdown",
   "id": "644ddc36",
   "metadata": {
    "id": "644ddc36"
   },
   "source": [
    "# Dictionary methods:"
   ]
  },
  {
   "cell_type": "markdown",
   "id": "1d6bdb74",
   "metadata": {
    "id": "1d6bdb74"
   },
   "source": [
    "![dict%20methods.png](attachment:dict%20methods.png)"
   ]
  },
  {
   "cell_type": "markdown",
   "id": "ee2e77ae",
   "metadata": {
    "id": "ee2e77ae"
   },
   "source": [
    "# 4.Python Sets:"
   ]
  },
  {
   "cell_type": "markdown",
   "id": "09afd770",
   "metadata": {
    "id": "09afd770"
   },
   "source": [
    "1.Sets are used to store multiple items in a single variable.\n",
    "\n",
    "2.Sets are enclosed withing {}.\n",
    "\n",
    "3.Sets are unordered,not mutable and unidexible.\n",
    "\n",
    "4.Sets items are unchangable but we can remove and add new items.\n"
   ]
  },
  {
   "cell_type": "code",
   "execution_count": null,
   "id": "ecea1a9c",
   "metadata": {
    "id": "ecea1a9c",
    "outputId": "cc885834-c4d7-468d-922b-86d15c171718"
   },
   "outputs": [
    {
     "name": "stdout",
     "output_type": "stream",
     "text": [
      "{1, 2, 3, 4}\n"
     ]
    }
   ],
   "source": [
    "#Example:\n",
    "set1={1,2,3,4}\n",
    "print(set1)"
   ]
  },
  {
   "cell_type": "code",
   "execution_count": null,
   "id": "171a2d0d",
   "metadata": {
    "id": "171a2d0d",
    "outputId": "5ad24afe-6383-4f98-8b01-1e93b8b138a2"
   },
   "outputs": [
    {
     "data": {
      "text/plain": [
       "{1, 2, 3, 4, 5, 6, 7}"
      ]
     },
     "execution_count": 95,
     "metadata": {},
     "output_type": "execute_result"
    }
   ],
   "source": [
    "3duplicates not allowed\n",
    "set={1,2,3,4,5,6,7,1,1}\n",
    "set"
   ]
  },
  {
   "cell_type": "code",
   "execution_count": null,
   "id": "8f8ef621",
   "metadata": {
    "id": "8f8ef621",
    "outputId": "d735cdc0-9711-40c3-d12c-d2cb1fb0c2e5"
   },
   "outputs": [
    {
     "data": {
      "text/plain": [
       "7"
      ]
     },
     "execution_count": 96,
     "metadata": {},
     "output_type": "execute_result"
    }
   ],
   "source": [
    "len(set)"
   ]
  },
  {
   "cell_type": "code",
   "execution_count": null,
   "id": "55fca203",
   "metadata": {
    "id": "55fca203",
    "outputId": "00bba02e-8b6c-4bb3-b469-a484565ba0f4"
   },
   "outputs": [
    {
     "data": {
      "text/plain": [
       "set"
      ]
     },
     "execution_count": 97,
     "metadata": {},
     "output_type": "execute_result"
    }
   ],
   "source": [
    "type(set)"
   ]
  },
  {
   "cell_type": "markdown",
   "id": "74651c42",
   "metadata": {
    "id": "74651c42"
   },
   "source": [
    "# Set Methods:"
   ]
  },
  {
   "cell_type": "markdown",
   "id": "d3c00065",
   "metadata": {
    "id": "d3c00065"
   },
   "source": [
    "![set%20methods.png](attachment:set%20methods.png)"
   ]
  },
  {
   "cell_type": "markdown",
   "id": "2c4a4f39",
   "metadata": {
    "id": "2c4a4f39"
   },
   "source": [
    "Note:We have still more methods in sets in the above table few are discussed.Please for more info refer this link(https://www.w3schools.com/python/python_sets.asp)"
   ]
  },
  {
   "cell_type": "markdown",
   "id": "ec84271d",
   "metadata": {
    "id": "ec84271d"
   },
   "source": [
    "# Python Operators"
   ]
  },
  {
   "cell_type": "code",
   "execution_count": null,
   "id": "6ddc7883",
   "metadata": {
    "id": "6ddc7883"
   },
   "outputs": [],
   "source": [
    "We have various python operators whcih are useful in performing various operations.\n",
    "\n",
    "Operators:\n",
    "1.Arthematic operators\n",
    "2.Comparison operators\n",
    "3.Logical operators\n",
    "4.Assignment operators\n",
    "5.Special operators\n",
    "a.Identity operators\n",
    "b.Membership operators"
   ]
  },
  {
   "cell_type": "markdown",
   "id": "3e932d92",
   "metadata": {
    "id": "3e932d92"
   },
   "source": [
    "1.Arthematic operators"
   ]
  },
  {
   "cell_type": "markdown",
   "id": "46624113",
   "metadata": {
    "id": "46624113"
   },
   "source": [
    "![AO.png](attachment:AO.png)"
   ]
  },
  {
   "cell_type": "markdown",
   "id": "b1d105ff",
   "metadata": {
    "id": "b1d105ff"
   },
   "source": [
    "2.Comparison operators\n",
    "\n",
    "a -first operand\n",
    "\n",
    "b-second operand"
   ]
  },
  {
   "cell_type": "markdown",
   "id": "914bece7",
   "metadata": {
    "id": "914bece7"
   },
   "source": [
    "![CO.png](attachment:CO.png)"
   ]
  },
  {
   "cell_type": "markdown",
   "id": "ba028577",
   "metadata": {
    "id": "ba028577"
   },
   "source": [
    "3.Logical operators"
   ]
  },
  {
   "cell_type": "markdown",
   "id": "2809ccb8",
   "metadata": {
    "id": "2809ccb8"
   },
   "source": [
    "![LO.png](attachment:LO.png)"
   ]
  },
  {
   "cell_type": "markdown",
   "id": "c82b9083",
   "metadata": {
    "id": "c82b9083"
   },
   "source": [
    "4.Assignemnt operators"
   ]
  },
  {
   "cell_type": "markdown",
   "id": "43feab2e",
   "metadata": {
    "id": "43feab2e"
   },
   "source": [
    "![ASSIGN%20o.png](attachment:ASSIGN%20o.png)"
   ]
  },
  {
   "cell_type": "markdown",
   "id": "92f1558e",
   "metadata": {
    "id": "92f1558e"
   },
   "source": [
    "5.SPECIAL OPERATORS\n",
    "\n",
    "1.Identity operators:\n",
    "    \n",
    "    *Used to check if the two values are located on the same part of the memory.\n",
    "    \n",
    "    *Returns true or false depending on conditions.\n",
    "    \n",
    "    *two identity operators are 'is' and 'is not'.\n",
    "    \n",
    " 2.Membership operators:\n",
    " \n",
    " *used to check whether a value is found in a sequence.\n",
    " \n",
    " *two membership operators are 'in' and 'not in'.\n",
    " "
   ]
  },
  {
   "cell_type": "markdown",
   "id": "7cea7338",
   "metadata": {
    "id": "7cea7338"
   },
   "source": [
    "CONTROL FLOW IN PYTHON:"
   ]
  },
  {
   "cell_type": "markdown",
   "id": "6261cc91",
   "metadata": {
    "id": "6261cc91"
   },
   "source": [
    "   1.if statement\n",
    "\n",
    "   2.if-else statement\n",
    "\n",
    "   3.nested if statement\n",
    "\n",
    "   4.if-elif statement"
   ]
  },
  {
   "cell_type": "markdown",
   "id": "8206fc3e",
   "metadata": {
    "id": "8206fc3e"
   },
   "source": [
    "LOOPS:\n",
    "\n",
    " 1.for loop\n",
    " \n",
    " 2.while loop"
   ]
  },
  {
   "cell_type": "markdown",
   "id": "a0deb136",
   "metadata": {
    "id": "a0deb136"
   },
   "source": [
    "# Python functions"
   ]
  },
  {
   "cell_type": "markdown",
   "id": "8a9060d0",
   "metadata": {
    "id": "8a9060d0"
   },
   "source": [
    "1.Python functions is a block of statements that peforms a specific task.\n",
    "\n",
    "2.Get executed when the function is called.\n",
    "\n",
    "3.goal is to put dome repeatedly done task together and make aa function ,so instead of writing the same code againa nd again for different inputs ,we can perform the function calls to reuse the code contained in the function.\n",
    "\n",
    "4.functions are defined by using \"def\" keyword.\n",
    "\n",
    "5.We have 2 types of functions:\n",
    "\n",
    "a.User-defined function\n",
    "\n",
    "b.Built-in function\n"
   ]
  },
  {
   "cell_type": "markdown",
   "id": "0e509eb4",
   "metadata": {
    "id": "0e509eb4"
   },
   "source": [
    "Syntax:\n",
    "\n",
    "    def function_name(parameters):\n",
    "        ####statements\n",
    "    function_name(arguments)\n",
    "    "
   ]
  },
  {
   "cell_type": "code",
   "execution_count": null,
   "id": "c3e58a81",
   "metadata": {
    "id": "c3e58a81"
   },
   "outputs": [],
   "source": [
    "def add():\n",
    "    a=2\n",
    "    b=3\n",
    "    sum=a+b\n",
    "    return sum\n",
    "add()\n",
    "print(add())"
   ]
  },
  {
   "cell_type": "markdown",
   "id": "7e1f1838",
   "metadata": {
    "id": "7e1f1838"
   },
   "source": [
    "1.Built-in function:\n",
    "    \n",
    "*python predefined functions that are readily available.\n",
    "\n",
    "*such as min(),max(),print(),sum() etc\n"
   ]
  },
  {
   "cell_type": "markdown",
   "id": "ce230a72",
   "metadata": {
    "id": "ce230a72"
   },
   "source": [
    "2.User-defined functions:\n",
    "\n",
    "*functions that are defined by user to perform a specific task\n"
   ]
  },
  {
   "cell_type": "markdown",
   "id": "f8bfa9aa",
   "metadata": {
    "id": "f8bfa9aa"
   },
   "source": [
    "3.Anonymous function:\n",
    "\n",
    "*function that we define without a name.\n",
    "\n",
    "*anonymous functions are also called as lambda function.\n",
    "\n",
    "*they are not declared without def keyword.\n"
   ]
  },
  {
   "cell_type": "code",
   "execution_count": null,
   "id": "17f92b33",
   "metadata": {
    "id": "17f92b33"
   },
   "outputs": [],
   "source": [
    "function modularity:\n",
    "    \n",
    "def collectdata():\n",
    "    'function to collect data'\n",
    "    statement(s)\n",
    "    \n",
    "def cleandata():\n",
    "    'function to clean data'\n",
    "    statement(s)\n",
    "def processdata():\n",
    "    'function to pre-process the data'\n",
    "    statement(s)\n",
    "def exploredate():\n",
    "    'function to explore data'\n",
    "    statement(s)\n",
    "def visualization():\n",
    "    'function to viasualize data'\n",
    "    statement(s)\n",
    "    \n",
    "#main program:\n",
    "collectdata()\n",
    "cleandata()\n",
    "processdata()\n",
    "exploredata()\n",
    "visualization()\n",
    "\n",
    "    "
   ]
  },
  {
   "cell_type": "markdown",
   "id": "Rc9dug9flY5I",
   "metadata": {
    "id": "Rc9dug9flY5I"
   },
   "source": [
    "*Question1 : Read the ages of people in a village. For ages between 1 to 5 store the string \"infant\", between 6 to 13 store the string \"child\", between 14 to 18 store the string \"teen\", between 19 to 35 store the string \"young\", between 36 to 60 store the string \"adult\" and above 60, store the string \"senior citizen\". Print the resultant list. *"
   ]
  },
  {
   "cell_type": "code",
   "execution_count": 7,
   "id": "dAulmVUIldRx",
   "metadata": {
    "colab": {
     "base_uri": "https://localhost:8080/"
    },
    "id": "dAulmVUIldRx",
    "outputId": "c82e5bc1-1976-46fa-9209-e142e856d474"
   },
   "outputs": [
    {
     "name": "stdout",
     "output_type": "stream",
     "text": [
      "Enter the total number of people in the village3\n",
      "Enter an age32\n",
      "Enter an age34\n",
      "Enter an age10\n",
      "The Output List is \n",
      "\n",
      "young \n",
      "\n",
      "young \n",
      "\n",
      "child \n",
      "\n"
     ]
    }
   ],
   "source": [
    "ages = []\n",
    "nop = int(input(\"Enter the total number of people in the village\"))\n",
    "for i in range(nop):\n",
    "  a = int(input(\"Enter an age\"))\n",
    "  ages.append(a)\n",
    "for i in range(nop):\n",
    "  if ages[i] >=1 and ages[i] <=5:\n",
    "    ages[i]= \"infant\"\n",
    "  elif ages[i] >=6 and ages[i] <=13:\n",
    "    ages[i] = \"child\"\n",
    "  elif ages[i] >=14 and ages[i] <=18:\n",
    "    ages[i] = \"teen\"\n",
    "  elif ages[i] >=19 and ages[i] <=35:\n",
    "    ages[i] = \"young\"\n",
    "  elif ages[i] >=36 and ages[i] <=60:\n",
    "    ages[i] = \"adult\"\n",
    "  else:\n",
    "    ages[i] = \"senior citizen\"\n",
    "print(\"The Output List is \\n\")\n",
    "for i in ages:\n",
    "  print(i,\"\\n\")"
   ]
  },
  {
   "cell_type": "markdown",
   "id": "OQlnlfJNlnKE",
   "metadata": {
    "id": "OQlnlfJNlnKE"
   },
   "source": [
    "Question 2 : Using List Comprehension, print the squares of the numbers from 1 to 10"
   ]
  },
  {
   "cell_type": "code",
   "execution_count": 8,
   "id": "oWRluqLPlqHX",
   "metadata": {
    "colab": {
     "base_uri": "https://localhost:8080/"
    },
    "id": "oWRluqLPlqHX",
    "outputId": "eca5684c-abc2-4428-a9d4-4ba77e0cbac9"
   },
   "outputs": [
    {
     "data": {
      "text/plain": [
       "[1, 4, 9, 16, 25, 36, 49, 64, 81, 100]"
      ]
     },
     "execution_count": 8,
     "metadata": {},
     "output_type": "execute_result"
    }
   ],
   "source": [
    "[x ** 2  for x in range(1,11)]"
   ]
  },
  {
   "cell_type": "markdown",
   "id": "Q_s59iDWlvZz",
   "metadata": {
    "id": "Q_s59iDWlvZz"
   },
   "source": [
    "Question 3: USing list Comprehension print the squares of only the positive numbers in a given list [-1, 1,2,-2, -3, 3, -4, 4]"
   ]
  },
  {
   "cell_type": "code",
   "execution_count": 14,
   "id": "i1ebEc2dlwpX",
   "metadata": {
    "colab": {
     "base_uri": "https://localhost:8080/"
    },
    "id": "i1ebEc2dlwpX",
    "outputId": "0323b837-e4c8-48a9-e9e1-e866deda0c99"
   },
   "outputs": [
    {
     "data": {
      "text/plain": [
       "[1, 4, 9, 16]"
      ]
     },
     "execution_count": 14,
     "metadata": {},
     "output_type": "execute_result"
    }
   ],
   "source": [
    "nums = [-1,1,2,-2,-3,3,-4,4]\n",
    "[ x ** 2  for x in nums  if x >=0]"
   ]
  },
  {
   "cell_type": "markdown",
   "id": "NnbX7RU-muHr",
   "metadata": {
    "id": "NnbX7RU-muHr"
   },
   "source": [
    "Question 4: Read the marks of 5 students in a course as a tuple. Print the highest, lowest and average of the input."
   ]
  },
  {
   "cell_type": "code",
   "execution_count": 15,
   "id": "CD_IhI0Hmyzi",
   "metadata": {
    "colab": {
     "base_uri": "https://localhost:8080/"
    },
    "id": "CD_IhI0Hmyzi",
    "outputId": "14546907-91fe-460c-a4fd-0c975e25fd48"
   },
   "outputs": [
    {
     "name": "stdout",
     "output_type": "stream",
     "text": [
      "Enter a mark10\n",
      "Enter a mark20\n",
      "Enter a mark30\n",
      "Enter a mark40\n",
      "Enter a mark50\n",
      "Highest is : \n",
      " 50\n",
      "Lowest is : \n",
      " 10\n",
      "Average is : \n",
      " 30.0\n"
     ]
    }
   ],
   "source": [
    "# Method 1 to read a tuple using eval()\n",
    "#marks = eval(input(\"Enter the 5 marks as a ()\"))\n",
    "#Method 2 to read a tuple using for and merge operator\n",
    "marks = ()\n",
    "for i in range(5):\n",
    "  m = int(input(\"Enter a mark\"))\n",
    "  marks = marks + (m,)\n",
    "sum = 0\n",
    "for i in marks:\n",
    "  sum = sum + i\n",
    "print(\"Highest is : \\n\", max(marks))\n",
    "print(\"Lowest is : \\n\", min(marks))\n",
    "print(\"Average is : \\n\", sum/5)"
   ]
  },
  {
   "cell_type": "markdown",
   "id": "tUFnxYo6m9Vq",
   "metadata": {
    "id": "tUFnxYo6m9Vq"
   },
   "source": [
    "Question 5: Excersises using Nested Data Structures. Read n integers from the user as a tuple. Create a tuple of tuples with each input item and its count. Sample Input : (1,2,1,3,4,2,4) Output : ((1,2), (2,2), (3,1), (4,2))"
   ]
  },
  {
   "cell_type": "code",
   "execution_count": 18,
   "id": "ahgPDCKtnBWH",
   "metadata": {
    "colab": {
     "base_uri": "https://localhost:8080/"
    },
    "id": "ahgPDCKtnBWH",
    "outputId": "d54d76d8-f932-43bd-e51f-94fed7ce677c"
   },
   "outputs": [
    {
     "name": "stdout",
     "output_type": "stream",
     "text": [
      "Enter the number of numbers3\n",
      "Enter a number1\n",
      "Enter a number3\n",
      "Enter a number5\n",
      "The input numbers are: \n",
      " (1, 3, 5)\n",
      "Output is:\n",
      " ((1, 1), (3, 1), (5, 1))\n"
     ]
    }
   ],
   "source": [
    "n = int(input(\"Enter the number of numbers\"))\n",
    "nums = ()\n",
    "for i in range(n):\n",
    "  n1 = int(input(\"Enter a number\"))\n",
    "  nums = nums + (n1,)\n",
    "print(\"The input numbers are: \\n\", nums)\n",
    "out = ()\n",
    "unique = []\n",
    "for i in nums:\n",
    "  if i not in unique:\n",
    "    unique.append(i)\n",
    "for i in unique:\n",
    "  out = out + ((i, nums.count(i)), )\n",
    "print(\"Output is:\\n\", out)"
   ]
  },
  {
   "cell_type": "markdown",
   "id": "War9b753niaW",
   "metadata": {
    "id": "War9b753niaW"
   },
   "source": [
    "*Question 6: Read student names of two classes using a list of tuples, one tuple for each class. Within each class, assume there are multiple students with the same name. Program should then remove such duplicates in each class. * Sample Input : [('John', 'Jashwant', 'John'), ('Joel', 'Rahul', 'Joel', 'Boomika')] Output : [('John','Jashwant'), ('Joel', 'Rahul', 'Boomika')]"
   ]
  },
  {
   "cell_type": "code",
   "execution_count": 19,
   "id": "fMsdjJNXnl-c",
   "metadata": {
    "colab": {
     "base_uri": "https://localhost:8080/"
    },
    "id": "fMsdjJNXnl-c",
    "outputId": "6f4ae5b0-53e3-4c20-fd14-a9d799465d50"
   },
   "outputs": [
    {
     "name": "stdout",
     "output_type": "stream",
     "text": [
      "Enter the student names of two classes as [()][('John', 'Jashwant', 'John'), ('Joel', 'Rahul', 'Joel', 'Boomika')]\n",
      "The list with duplicates removed is : \n",
      " [('John', 'Jashwant'), ('Joel', 'Rahul', 'Boomika')]\n"
     ]
    }
   ],
   "source": [
    "names = eval(input(\"Enter the student names of two classes as [()]\"))\n",
    "out_list = []\n",
    "for tuple_names in names:\n",
    "  #create a tuple of unique names\n",
    "  unique_names = ()\n",
    "  for j in tuple_names:\n",
    "    if j not in unique_names:\n",
    "      unique_names = unique_names + (j,)\n",
    "  #append this tuple with unique names to the output list\n",
    "  out_list.append(unique_names)\n",
    "print(\"The list with duplicates removed is : \\n\", out_list)"
   ]
  },
  {
   "cell_type": "markdown",
   "id": "euRNezpkn15i",
   "metadata": {
    "id": "euRNezpkn15i"
   },
   "source": [
    "Question 7: Create a shopping list with details of fruits purchased as a list of tuples. Each tuple should be(fruit_name, fruit_weight). Print the following outputs : 1. Print the list in alphabetical order of fruit names.\n",
    "\n",
    "Print the list in ascending order of fruit weights.\n",
    "Print the list in descending order of fruit weights. Sample Input : [('Grapes', 5), ('Apple', 3), ('Orange', 4)] Output 1 : [('Apple', 3), ('Grapes', 5), ('Orange', 4)] Output 2 : [('Apple',3), ('Orange', 4), ('Grapes', 5)] Output 3: [('Grapes', 5), ('Orange', 4), ('Apple', 3)] bold text"
   ]
  },
  {
   "cell_type": "code",
   "execution_count": null,
   "id": "wwHAlNeZn66J",
   "metadata": {
    "id": "wwHAlNeZn66J"
   },
   "outputs": [],
   "source": [
    "import operator\n",
    "shopping_list = []\n",
    "while (1):\n",
    "  #read fruit details as a tuple, terminate when empty tuple is input\n",
    "  item = eval(input(\"Enter the next fruit as a ()\"))\n",
    "  if item == ():\n",
    "    break\n",
    "  else:\n",
    "    shopping_list.append(item)\n",
    "print(\"The shopping list is : \\n\", shopping_list)\n",
    "output1 = sorted(shopping_list)\n",
    "print(\"The list in ascending order of fruit names is : \\n\", output1)\n",
    "output2 = sorted(shopping_list, key = operator.itemgetter(1))\n",
    "print(\"The list in ascending order of fruit weights is : \\n\", output2)\n",
    "output3 = sorted(shopping_list, key = operator.itemgetter(1), reverse = True)\n",
    "print(\"The list in descending order of fruit weights is : \\n\", output3)"
   ]
  },
  {
   "cell_type": "markdown",
   "id": "c7982ab9",
   "metadata": {
    "id": "c7982ab9"
   },
   "source": [
    "# NOTE(IMP):\n",
    "1.I request all the students to go through the basics of python.\n",
    "\n",
    "2.This notebook just covers basics for refreshing the topics what you have studied in previous semester.\n",
    "\n",
    "3.Requesting to be very thorough with python concepts\n",
    "\n",
    "4.Python is essential and pre-requisit for machine learning.\n",
    "\n"
   ]
  },
  {
   "cell_type": "code",
   "execution_count": null,
   "id": "b997e18f",
   "metadata": {
    "colab": {
     "base_uri": "https://localhost:8080/",
     "height": 68
    },
    "colab_type": "code",
    "executionInfo": {
     "elapsed": 2859,
     "status": "ok",
     "timestamp": 1597908849524,
     "user": {
      "displayName": "Pappu Raj",
      "photoUrl": "",
      "userId": "00735817655946495491"
     },
     "user_tz": -330
    },
    "id": "LkEYYaA0y38c",
    "outputId": "882a465e-7843-4ec5-91d7-52ec5d0aac92"
   },
   "outputs": [
    {
     "name": "stdout",
     "output_type": "stream",
     "text": [
      "dict_keys(['a', 'b', 'c'])\n",
      "dict_values(['android', 'ball', 'cat'])\n",
      "dict_items([('a', 'android'), ('b', 'ball'), ('c', 'cat')])\n"
     ]
    }
   ],
   "source": [
    "d = {'a':'android', 'b':'ball','c':'cat'}\n",
    "print(d.keys())\n",
    "print(d.values())\n",
    "print(d.items())\n"
   ]
  },
  {
   "cell_type": "markdown",
   "id": "9bc034bf",
   "metadata": {
    "colab_type": "text",
    "id": "OAGr_35n3Y1f"
   },
   "source": [
    "Lab 2 covers exercises on dictionaries, functions and data frames. \n",
    "# Excercise 1 : Given an integer n, generate a dictionary (i, i*i), where i is an integer between 1 and n(included) **bold text** \n"
   ]
  },
  {
   "cell_type": "code",
   "execution_count": null,
   "id": "81d210df",
   "metadata": {
    "colab": {
     "base_uri": "https://localhost:8080/",
     "height": 51
    },
    "colab_type": "code",
    "executionInfo": {
     "elapsed": 12496,
     "status": "ok",
     "timestamp": 1597908984593,
     "user": {
      "displayName": "Pappu Raj",
      "photoUrl": "",
      "userId": "00735817655946495491"
     },
     "user_tz": -330
    },
    "id": "4lLPmRit302z",
    "outputId": "e98b632e-6c38-43cf-bdf0-c65c43ccfc88"
   },
   "outputs": [
    {
     "name": "stdout",
     "output_type": "stream",
     "text": [
      "Enter an integer7\n",
      "{0: 0, 1: 1, 2: 4, 3: 9, 4: 16, 5: 25, 6: 36}\n"
     ]
    }
   ],
   "source": [
    "n = int(input('Enter an integer'))\n",
    "out = {}\n",
    "for i in range(n):\n",
    "  out[i] = i*i\n",
    "print(out)"
   ]
  },
  {
   "cell_type": "markdown",
   "id": "f342e13c",
   "metadata": {
    "colab_type": "text",
    "id": "v3vTHb_MfF_E"
   },
   "source": [
    "Exercise 2 : Read an integer N. With all integers from 1 to N, using list comprehension, create a list of tuples which has the integer and its cube, iff the integer is divisible by 5 and 7. Convert this list into a dictionary."
   ]
  },
  {
   "cell_type": "code",
   "execution_count": null,
   "id": "2a4293fd",
   "metadata": {
    "colab": {
     "base_uri": "https://localhost:8080/",
     "height": 51
    },
    "colab_type": "code",
    "executionInfo": {
     "elapsed": 12115,
     "status": "ok",
     "timestamp": 1598507602244,
     "user": {
      "displayName": "Pappu Raj",
      "photoUrl": "",
      "userId": "00735817655946495491"
     },
     "user_tz": -330
    },
    "id": "RzFR56BPfllC",
    "outputId": "a6c6e573-b553-4267-b8d1-3b2fe2fc69d9"
   },
   "outputs": [
    {
     "name": "stdout",
     "output_type": "stream",
     "text": [
      "Enter an integer50\n",
      "{21: 9261, 42: 74088}\n"
     ]
    }
   ],
   "source": [
    "n = int(input(\"Enter an integer\"))\n",
    "out =[(i, i**3) for i in range(1,n+1) if (i%3 == 0) and (i%7 == 0)]\n",
    "print(dict(out))"
   ]
  },
  {
   "cell_type": "markdown",
   "id": "82bba5d1",
   "metadata": {
    "colab_type": "text",
    "id": "tojGqbUkiJWj"
   },
   "source": [
    "Exercise 3: Read an integer N. Create a dictionary where the keys are the numbers from 1 to N. Values are tuples having the square of the integer and its factorial. Sample Input : N = 4. Output : {1:(1,1), 2:(4,2), 3:(9,6), 4:(16, 24)}"
   ]
  },
  {
   "cell_type": "code",
   "execution_count": 1,
   "id": "0113959a",
   "metadata": {
    "colab": {
     "base_uri": "https://localhost:8080/",
     "height": 51
    },
    "colab_type": "code",
    "executionInfo": {
     "elapsed": 17520,
     "status": "ok",
     "timestamp": 1598864629920,
     "user": {
      "displayName": "Ms. Sterlin Minish T N Assistant Professor (CSE)",
      "photoUrl": "",
      "userId": "04396114407954434228"
     },
     "user_tz": -330
    },
    "id": "uy5jeDtkix2U",
    "outputId": "b0955cf2-0b90-497d-d7c6-61c17b1de53b"
   },
   "outputs": [
    {
     "name": "stdout",
     "output_type": "stream",
     "text": [
      "Enter an integer5\n",
      "{1: (1, 1), 2: (4, 2), 3: (9, 6), 4: (16, 24), 5: (25, 120)}\n"
     ]
    }
   ],
   "source": [
    "n = int(input(\"Enter an integer\"))\n",
    "out={}\n",
    "for i in range(1,n+1):\n",
    "  f = 1\n",
    "  for j in range(1,i+1):\n",
    "    f =f*j\n",
    "  out[i] = (i*i, f)\n",
    "print(out)"
   ]
  },
  {
   "cell_type": "markdown",
   "id": "55d2de76",
   "metadata": {
    "colab_type": "text",
    "id": "_e_kRwvQkZbF"
   },
   "source": [
    "Exercise 4: Create a list as shown in sample input, where the list can contain single elements, lists, tuples or dictionaries with numeric keys. Find the sum of all elements in the list collectively. Sample Input : [1, 2, [66,44,55], (2,0,8,9), {11:'eleven'}] Output : Sum of the list is 198 "
   ]
  },
  {
   "cell_type": "code",
   "execution_count": null,
   "id": "8fe9b7a6",
   "metadata": {
    "colab": {
     "base_uri": "https://localhost:8080/",
     "height": 85
    },
    "colab_type": "code",
    "executionInfo": {
     "elapsed": 33033,
     "status": "ok",
     "timestamp": 1598509129467,
     "user": {
      "displayName": "Pappu Raj",
      "photoUrl": "",
      "userId": "00735817655946495491"
     },
     "user_tz": -330
    },
    "id": "HOSMLB6nlFIo",
    "outputId": "fc8a8123-887d-4ef5-a6c7-1e465f5bfd75"
   },
   "outputs": [
    {
     "name": "stdout",
     "output_type": "stream",
     "text": [
      "Enter a list with single elements, list, tuple and dictionary as [][1,2,[3,4,5],(6,7),{10:'ten'}]\n",
      "The input list is :\n",
      " [1, 2, [3, 4, 5], (6, 7), {10: 'ten'}]\n",
      "The final sum is : 38\n"
     ]
    }
   ],
   "source": [
    "inp = eval(input(\"Enter a list with single elements, list, tuple and dictionary as []\"))\n",
    "print(\"The input list is :\\n\", inp)\n",
    "s = 0\n",
    "for i in inp:\n",
    "  if type(i) == list or type(i) == tuple:\n",
    "    s = s + sum(i)\n",
    "  elif type(i) == dict:\n",
    "    s = s + sum(i.keys())\n",
    "  else:\n",
    "    s = s + i\n",
    "print(\"The final sum is :\", s)\n"
   ]
  },
  {
   "cell_type": "markdown",
   "id": "43c1edb4",
   "metadata": {
    "colab_type": "text",
    "id": "XP12kqiP4RNd"
   },
   "source": [
    "# **Exercise 5: Create a dictionary having each day and its temperature in a week. Program should then create a list of days when the temperature is between 32 to 35.**\n",
    "Sample Input : {'sun':25, 'mon':34, 'tue':33, 'wed':29, 'thu':28, 'fri':35, 'sat':40}**\n",
    "Output : ['mon', 'tue', 'fri']"
   ]
  },
  {
   "cell_type": "code",
   "execution_count": null,
   "id": "58983009",
   "metadata": {
    "colab": {
     "base_uri": "https://localhost:8080/",
     "height": 51
    },
    "colab_type": "code",
    "executionInfo": {
     "elapsed": 61530,
     "status": "ok",
     "timestamp": 1598510073859,
     "user": {
      "displayName": "Pappu Raj",
      "photoUrl": "",
      "userId": "00735817655946495491"
     },
     "user_tz": -330
    },
    "id": "rVX5FsUt4wJ2",
    "outputId": "ef4e1ebe-329f-4eea-99f3-8367deca94f9"
   },
   "outputs": [
    {
     "name": "stdout",
     "output_type": "stream",
     "text": [
      "Enter the day name and temp of a week as a {}{'mon':23,'tue':45}\n",
      "[]\n"
     ]
    }
   ],
   "source": [
    "temp = eval(input(\"Enter the day name and temp of a week as a {}\"))\n",
    "out_days = []\n",
    "for i in temp:\n",
    "  if temp[i] >=32 and temp[i]<= 35:\n",
    "    out_days.append(i)\n",
    "print(out_days)"
   ]
  },
  {
   "cell_type": "markdown",
   "id": "71923fdc",
   "metadata": {
    "colab_type": "text",
    "id": "mSCQhjwL6YSe"
   },
   "source": [
    "Exercise 6: Given cities = ['Delhi', 'Mumbai', 'Chennai', 'Bangalore'] and pollution_level = [56, 45, 40, 44], create a dictionary using cities as keys and pollution_level as values and dictionary comprehension.\n",
    "Output : {'Delhi':56, 'Mumbai':45, 'Chennai':40, 'Bangalore':44} \n",
    "\n"
   ]
  },
  {
   "cell_type": "code",
   "execution_count": null,
   "id": "64cb8d27",
   "metadata": {
    "colab": {
     "base_uri": "https://localhost:8080/",
     "height": 34
    },
    "colab_type": "code",
    "executionInfo": {
     "elapsed": 1011,
     "status": "ok",
     "timestamp": 1598511344422,
     "user": {
      "displayName": "Pappu Raj",
      "photoUrl": "",
      "userId": "00735817655946495491"
     },
     "user_tz": -330
    },
    "id": "v01oVVvj7rEl",
    "outputId": "d2f9f693-87ac-4966-a8f1-a6596cdec55d"
   },
   "outputs": [
    {
     "name": "stdout",
     "output_type": "stream",
     "text": [
      "{'Delhi': 56, 'Mumbai': 45, 'Chennai': 40, 'Bangalore': 44, 'hyderabad': 50}\n"
     ]
    }
   ],
   "source": [
    "cities = ['Delhi', 'Mumbai', 'Chennai', 'Bangalore', 'hyderabad']\n",
    "pollution_level = [56, 45, 40, 44,50]\n",
    "out = {i:j  for(i,j) in zip(cities,pollution_level)}\n",
    "print(out)"
   ]
  },
  {
   "cell_type": "markdown",
   "id": "86f092c1",
   "metadata": {
    "colab_type": "text",
    "id": "l8fPiHlE8RJC"
   },
   "source": [
    "Exercise 7:Professor Smith is the faculty advisor of 3 students. Initially he received only the ID Nos of his advisees from Dean's office as IDNO = [20181ISE349, 20181ISE550, 20181ISE560, 20181ISE289]. After his first meeting with his advisees he collected their CGPA = [8.9, 3.0, 5.5, 7.8] respectively. \n",
    "a) Help the professor to consolidate these two lists into a dictioanry\n",
    "   Output : {'20181ISE349':8.9, '20181ISE550':3.0, '20181ISE560':5.5, '20181ISE289':7.8\n",
    "b) Help the professor to identify the slow learners, students with CGPA of 4 and below\n",
    "   Output: ['20181ISE550']\n",
    "c) In his next meeting, he decides to meet his advisees based on their CGPA, prioritizing slow learners first. Preapre a visiting list for him\n",
    "   Output : ['20181ISE550', '20181ISE560', '20181ISE289', '20181ISE349'] "
   ]
  },
  {
   "cell_type": "code",
   "execution_count": null,
   "id": "b1005f7b",
   "metadata": {
    "colab": {
     "base_uri": "https://localhost:8080/",
     "height": 119
    },
    "colab_type": "code",
    "executionInfo": {
     "elapsed": 1123,
     "status": "ok",
     "timestamp": 1598512037469,
     "user": {
      "displayName": "Pappu Raj",
      "photoUrl": "",
      "userId": "00735817655946495491"
     },
     "user_tz": -330
    },
    "id": "66yiCiEz_YfC",
    "outputId": "f4510395-ae70-4a36-b875-f9024d66fb7b"
   },
   "outputs": [
    {
     "name": "stdout",
     "output_type": "stream",
     "text": [
      "The advisees of Prof Smith are:\n",
      " {'20181ISE349': 7.8, '20181ISE550': 3.0, '20181ISE560': 5.5, '20181ISE289': 8.7}\n",
      "The list of slow learners are:\n",
      " ['20181ISE550']\n",
      "The meeting schedule for Prof Smith is :\n",
      " dict_keys(['20181ISE550', '20181ISE560', '20181ISE349', '20181ISE289'])\n"
     ]
    }
   ],
   "source": [
    "import operator\n",
    "IDNO = ['20181ISE349', '20181ISE550', '20181ISE560', '20181ISE289']\n",
    "CGPA = [7.8, 3.0, 5.5, 8.7]\n",
    "advisees = {i:j   for i, j in zip(IDNO,CGPA)}\n",
    "print(\"The advisees of Prof Smith are:\\n\", advisees)\n",
    "\n",
    "#print slow learners\n",
    "slow_learners = []\n",
    "for i in advisees:\n",
    "  if advisees[i] <=4:\n",
    "    slow_learners.append(i)\n",
    "print(\"The list of slow learners are:\\n\", slow_learners)\n",
    "\n",
    "#Visiting schedule for Prof Smith\n",
    "\n",
    "order = sorted(advisees.items(), key = operator.itemgetter(1))  #output will be a list of tuples\n",
    "print(\"The meeting schedule for Prof Smith is :\\n\", dict(order).keys())\n"
   ]
  },
  {
   "cell_type": "markdown",
   "id": "854fe503",
   "metadata": {
    "colab_type": "text",
    "id": "yfuF4Bp7-M9V"
   },
   "source": [
    "Exercise 8: USing a function to find factorial, compute the binomial coefficient nCr =  n!/(r! )(n-r)!, for a given value of n and r."
   ]
  },
  {
   "cell_type": "code",
   "execution_count": null,
   "id": "3aadbc0f",
   "metadata": {
    "colab": {
     "base_uri": "https://localhost:8080/",
     "height": 68
    },
    "colab_type": "code",
    "executionInfo": {
     "elapsed": 11663,
     "status": "ok",
     "timestamp": 1598512697899,
     "user": {
      "displayName": "Pappu Raj",
      "photoUrl": "",
      "userId": "00735817655946495491"
     },
     "user_tz": -330
    },
    "id": "GYUilo6x-cVw",
    "outputId": "c94b50df-dcb6-4a4f-92d1-15e333902fbc"
   },
   "outputs": [
    {
     "name": "stdout",
     "output_type": "stream",
     "text": [
      "Enter a number4\n",
      "Enter r2\n",
      "NCR =  6.0\n"
     ]
    }
   ],
   "source": [
    "def my_fact(n):\n",
    "  f = 1\n",
    "  for i in range(1,n+1):\n",
    "    f = f*i\n",
    "  return(f)\n",
    "\n",
    "num = int(input(\"Enter a number\"))\n",
    "r = int(input(\"Enter r\"))\n",
    "ncr = my_fact(num)/ (my_fact(r) * my_fact(num-r))\n",
    "print(\"NCR = \", ncr)\n"
   ]
  },
  {
   "cell_type": "markdown",
   "id": "c9f95004",
   "metadata": {
    "colab_type": "text",
    "id": "GSNs5AgSTPqp"
   },
   "source": [
    "Exercise 9: Create a list of list with the daily average temperatures of a week as [['sun',33.3], ['mon',32.1], ['tue',34.5], ['wed',28.7], ['thu',29.9], ['fri',28.6], ['sat',25.5]]. Using a function find the warmest and the coldest day of the week and the corresponding temperature. Ouput : Warmest is ['tue':34.5] Coldest is ['sat':25.5]\n"
   ]
  },
  {
   "cell_type": "code",
   "execution_count": null,
   "id": "addf8db4",
   "metadata": {
    "colab": {
     "base_uri": "https://localhost:8080/",
     "height": 67
    },
    "colab_type": "code",
    "executionInfo": {
     "elapsed": 14224,
     "status": "ok",
     "timestamp": 1596619992227,
     "user": {
      "displayName": "Alamelumangai Jothidurai",
      "photoUrl": "",
      "userId": "16336246361902186406"
     },
     "user_tz": -330
    },
    "id": "VSPv9QRt6C36",
    "outputId": "32a75c16-f880-4916-d2fc-8792e5102290"
   },
   "outputs": [
    {
     "name": "stdout",
     "output_type": "stream",
     "text": [
      "Enter the daily temperature in a week as a [[]][['sun',33.3], ['mon',32.1], ['tue',34.5], ['wed',28.7], ['thu',29.9], ['fri',28.6], ['sat',25.5]]\n",
      "The coldest day is : ['sat', 25.5]\n",
      "The warmest day is : ['tue', 34.5]\n"
     ]
    }
   ],
   "source": [
    "def maxmin(weekly_temp):\n",
    "  out = sorted(weekly_temp, key=operator.itemgetter(1))\n",
    "  return(out)\n",
    "\n",
    "import operator\n",
    "weekly_temp = eval(input(\"Enter the daily temperature in a week as a [[]]\"))\n",
    "p = maxmin(weekly_temp)\n",
    "print(\"The coldest day is :\", p[0])\n",
    "print(\"The warmest day is :\", p[len(p) - 1])"
   ]
  },
  {
   "cell_type": "code",
   "execution_count": null,
   "id": "9e39e317",
   "metadata": {
    "colab": {
     "base_uri": "https://localhost:8080/",
     "height": 73,
     "resources": {
      "http://localhost:8080/nbextensions/google.colab/files.js": {
       "data": "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",
       "headers": [
        [
         "content-type",
         "application/javascript"
        ]
       ],
       "ok": true,
       "status": 200,
       "status_text": ""
      }
     }
    },
    "colab_type": "code",
    "executionInfo": {
     "elapsed": 42070,
     "status": "ok",
     "timestamp": 1598590098925,
     "user": {
      "displayName": "Alamelumangai Jothidurai",
      "photoUrl": "",
      "userId": "16336246361902186406"
     },
     "user_tz": -330
    },
    "id": "LvwBOe0SHURM",
    "outputId": "a81af686-b7bc-477b-d426-baa0dddd15c4"
   },
   "outputs": [
    {
     "data": {
      "text/html": [
       "\n",
       "     <input type=\"file\" id=\"files-6ed5806a-0ad0-42d3-af85-fcd18c565b2c\" name=\"files[]\" multiple disabled\n",
       "        style=\"border:none\" />\n",
       "     <output id=\"result-6ed5806a-0ad0-42d3-af85-fcd18c565b2c\">\n",
       "      Upload widget is only available when the cell has been executed in the\n",
       "      current browser session. Please rerun this cell to enable.\n",
       "      </output>\n",
       "      <script src=\"/nbextensions/google.colab/files.js\"></script> "
      ],
      "text/plain": [
       "<IPython.core.display.HTML object>"
      ]
     },
     "metadata": {
      "tags": []
     },
     "output_type": "display_data"
    },
    {
     "name": "stdout",
     "output_type": "stream",
     "text": [
      "Saving empdata.csv to empdata.csv\n"
     ]
    }
   ],
   "source": [
    "#This code is to upload the data set from local drive into Colab\n",
    "from google.colab import files\n",
    "uploaded = files.upload()"
   ]
  },
  {
   "cell_type": "markdown",
   "id": "f59199ed",
   "metadata": {
    "colab_type": "text",
    "id": "RiADVCrxHjdl"
   },
   "source": [
    "1. Create a Pandas data frame for empdata.csv"
   ]
  },
  {
   "cell_type": "code",
   "execution_count": 1,
   "id": "801847e8",
   "metadata": {
    "colab": {
     "base_uri": "https://localhost:8080/",
     "height": 425
    },
    "colab_type": "code",
    "executionInfo": {
     "elapsed": 1681,
     "status": "error",
     "timestamp": 1598758336055,
     "user": {
      "displayName": "Pappu Raj",
      "photoUrl": "",
      "userId": "00735817655946495491"
     },
     "user_tz": -330
    },
    "id": "QmdS67A8HpNf",
    "outputId": "086768a3-4557-44c4-f096-f53fdf028e07"
   },
   "outputs": [
    {
     "ename": "FileNotFoundError",
     "evalue": "ignored",
     "output_type": "error",
     "traceback": [
      "\u001b[0;31m---------------------------------------------------------------------------\u001b[0m",
      "\u001b[0;31mFileNotFoundError\u001b[0m                         Traceback (most recent call last)",
      "\u001b[0;32m<ipython-input-1-e09b93b9982a>\u001b[0m in \u001b[0;36m<module>\u001b[0;34m()\u001b[0m\n\u001b[1;32m      1\u001b[0m \u001b[0;32mimport\u001b[0m \u001b[0mpandas\u001b[0m \u001b[0;32mas\u001b[0m \u001b[0mpd\u001b[0m\u001b[0;34m\u001b[0m\u001b[0;34m\u001b[0m\u001b[0m\n\u001b[0;32m----> 2\u001b[0;31m \u001b[0mdf\u001b[0m \u001b[0;34m=\u001b[0m \u001b[0mpd\u001b[0m\u001b[0;34m.\u001b[0m\u001b[0mread_csv\u001b[0m\u001b[0;34m(\u001b[0m\u001b[0;34m\"/content/empdata.csv\"\u001b[0m\u001b[0;34m)\u001b[0m\u001b[0;34m\u001b[0m\u001b[0;34m\u001b[0m\u001b[0m\n\u001b[0m\u001b[1;32m      3\u001b[0m \u001b[0mprint\u001b[0m\u001b[0;34m(\u001b[0m\u001b[0mdf\u001b[0m\u001b[0;34m.\u001b[0m\u001b[0mhead\u001b[0m\u001b[0;34m(\u001b[0m\u001b[0;34m)\u001b[0m\u001b[0;34m)\u001b[0m\u001b[0;34m\u001b[0m\u001b[0;34m\u001b[0m\u001b[0m\n\u001b[1;32m      4\u001b[0m \u001b[0mprint\u001b[0m\u001b[0;34m(\u001b[0m\u001b[0mdf\u001b[0m\u001b[0;34m.\u001b[0m\u001b[0mshape\u001b[0m\u001b[0;34m)\u001b[0m\u001b[0;34m\u001b[0m\u001b[0;34m\u001b[0m\u001b[0m\n",
      "\u001b[0;32m/usr/local/lib/python3.6/dist-packages/pandas/io/parsers.py\u001b[0m in \u001b[0;36mparser_f\u001b[0;34m(filepath_or_buffer, sep, delimiter, header, names, index_col, usecols, squeeze, prefix, mangle_dupe_cols, dtype, engine, converters, true_values, false_values, skipinitialspace, skiprows, skipfooter, nrows, na_values, keep_default_na, na_filter, verbose, skip_blank_lines, parse_dates, infer_datetime_format, keep_date_col, date_parser, dayfirst, cache_dates, iterator, chunksize, compression, thousands, decimal, lineterminator, quotechar, quoting, doublequote, escapechar, comment, encoding, dialect, error_bad_lines, warn_bad_lines, delim_whitespace, low_memory, memory_map, float_precision)\u001b[0m\n\u001b[1;32m    674\u001b[0m         )\n\u001b[1;32m    675\u001b[0m \u001b[0;34m\u001b[0m\u001b[0m\n\u001b[0;32m--> 676\u001b[0;31m         \u001b[0;32mreturn\u001b[0m \u001b[0m_read\u001b[0m\u001b[0;34m(\u001b[0m\u001b[0mfilepath_or_buffer\u001b[0m\u001b[0;34m,\u001b[0m \u001b[0mkwds\u001b[0m\u001b[0;34m)\u001b[0m\u001b[0;34m\u001b[0m\u001b[0;34m\u001b[0m\u001b[0m\n\u001b[0m\u001b[1;32m    677\u001b[0m \u001b[0;34m\u001b[0m\u001b[0m\n\u001b[1;32m    678\u001b[0m     \u001b[0mparser_f\u001b[0m\u001b[0;34m.\u001b[0m\u001b[0m__name__\u001b[0m \u001b[0;34m=\u001b[0m \u001b[0mname\u001b[0m\u001b[0;34m\u001b[0m\u001b[0;34m\u001b[0m\u001b[0m\n",
      "\u001b[0;32m/usr/local/lib/python3.6/dist-packages/pandas/io/parsers.py\u001b[0m in \u001b[0;36m_read\u001b[0;34m(filepath_or_buffer, kwds)\u001b[0m\n\u001b[1;32m    446\u001b[0m \u001b[0;34m\u001b[0m\u001b[0m\n\u001b[1;32m    447\u001b[0m     \u001b[0;31m# Create the parser.\u001b[0m\u001b[0;34m\u001b[0m\u001b[0;34m\u001b[0m\u001b[0;34m\u001b[0m\u001b[0m\n\u001b[0;32m--> 448\u001b[0;31m     \u001b[0mparser\u001b[0m \u001b[0;34m=\u001b[0m \u001b[0mTextFileReader\u001b[0m\u001b[0;34m(\u001b[0m\u001b[0mfp_or_buf\u001b[0m\u001b[0;34m,\u001b[0m \u001b[0;34m**\u001b[0m\u001b[0mkwds\u001b[0m\u001b[0;34m)\u001b[0m\u001b[0;34m\u001b[0m\u001b[0;34m\u001b[0m\u001b[0m\n\u001b[0m\u001b[1;32m    449\u001b[0m \u001b[0;34m\u001b[0m\u001b[0m\n\u001b[1;32m    450\u001b[0m     \u001b[0;32mif\u001b[0m \u001b[0mchunksize\u001b[0m \u001b[0;32mor\u001b[0m \u001b[0miterator\u001b[0m\u001b[0;34m:\u001b[0m\u001b[0;34m\u001b[0m\u001b[0;34m\u001b[0m\u001b[0m\n",
      "\u001b[0;32m/usr/local/lib/python3.6/dist-packages/pandas/io/parsers.py\u001b[0m in \u001b[0;36m__init__\u001b[0;34m(self, f, engine, **kwds)\u001b[0m\n\u001b[1;32m    878\u001b[0m             \u001b[0mself\u001b[0m\u001b[0;34m.\u001b[0m\u001b[0moptions\u001b[0m\u001b[0;34m[\u001b[0m\u001b[0;34m\"has_index_names\"\u001b[0m\u001b[0;34m]\u001b[0m \u001b[0;34m=\u001b[0m \u001b[0mkwds\u001b[0m\u001b[0;34m[\u001b[0m\u001b[0;34m\"has_index_names\"\u001b[0m\u001b[0;34m]\u001b[0m\u001b[0;34m\u001b[0m\u001b[0;34m\u001b[0m\u001b[0m\n\u001b[1;32m    879\u001b[0m \u001b[0;34m\u001b[0m\u001b[0m\n\u001b[0;32m--> 880\u001b[0;31m         \u001b[0mself\u001b[0m\u001b[0;34m.\u001b[0m\u001b[0m_make_engine\u001b[0m\u001b[0;34m(\u001b[0m\u001b[0mself\u001b[0m\u001b[0;34m.\u001b[0m\u001b[0mengine\u001b[0m\u001b[0;34m)\u001b[0m\u001b[0;34m\u001b[0m\u001b[0;34m\u001b[0m\u001b[0m\n\u001b[0m\u001b[1;32m    881\u001b[0m \u001b[0;34m\u001b[0m\u001b[0m\n\u001b[1;32m    882\u001b[0m     \u001b[0;32mdef\u001b[0m \u001b[0mclose\u001b[0m\u001b[0;34m(\u001b[0m\u001b[0mself\u001b[0m\u001b[0;34m)\u001b[0m\u001b[0;34m:\u001b[0m\u001b[0;34m\u001b[0m\u001b[0;34m\u001b[0m\u001b[0m\n",
      "\u001b[0;32m/usr/local/lib/python3.6/dist-packages/pandas/io/parsers.py\u001b[0m in \u001b[0;36m_make_engine\u001b[0;34m(self, engine)\u001b[0m\n\u001b[1;32m   1112\u001b[0m     \u001b[0;32mdef\u001b[0m \u001b[0m_make_engine\u001b[0m\u001b[0;34m(\u001b[0m\u001b[0mself\u001b[0m\u001b[0;34m,\u001b[0m \u001b[0mengine\u001b[0m\u001b[0;34m=\u001b[0m\u001b[0;34m\"c\"\u001b[0m\u001b[0;34m)\u001b[0m\u001b[0;34m:\u001b[0m\u001b[0;34m\u001b[0m\u001b[0;34m\u001b[0m\u001b[0m\n\u001b[1;32m   1113\u001b[0m         \u001b[0;32mif\u001b[0m \u001b[0mengine\u001b[0m \u001b[0;34m==\u001b[0m \u001b[0;34m\"c\"\u001b[0m\u001b[0;34m:\u001b[0m\u001b[0;34m\u001b[0m\u001b[0;34m\u001b[0m\u001b[0m\n\u001b[0;32m-> 1114\u001b[0;31m             \u001b[0mself\u001b[0m\u001b[0;34m.\u001b[0m\u001b[0m_engine\u001b[0m \u001b[0;34m=\u001b[0m \u001b[0mCParserWrapper\u001b[0m\u001b[0;34m(\u001b[0m\u001b[0mself\u001b[0m\u001b[0;34m.\u001b[0m\u001b[0mf\u001b[0m\u001b[0;34m,\u001b[0m \u001b[0;34m**\u001b[0m\u001b[0mself\u001b[0m\u001b[0;34m.\u001b[0m\u001b[0moptions\u001b[0m\u001b[0;34m)\u001b[0m\u001b[0;34m\u001b[0m\u001b[0;34m\u001b[0m\u001b[0m\n\u001b[0m\u001b[1;32m   1115\u001b[0m         \u001b[0;32melse\u001b[0m\u001b[0;34m:\u001b[0m\u001b[0;34m\u001b[0m\u001b[0;34m\u001b[0m\u001b[0m\n\u001b[1;32m   1116\u001b[0m             \u001b[0;32mif\u001b[0m \u001b[0mengine\u001b[0m \u001b[0;34m==\u001b[0m \u001b[0;34m\"python\"\u001b[0m\u001b[0;34m:\u001b[0m\u001b[0;34m\u001b[0m\u001b[0;34m\u001b[0m\u001b[0m\n",
      "\u001b[0;32m/usr/local/lib/python3.6/dist-packages/pandas/io/parsers.py\u001b[0m in \u001b[0;36m__init__\u001b[0;34m(self, src, **kwds)\u001b[0m\n\u001b[1;32m   1889\u001b[0m         \u001b[0mkwds\u001b[0m\u001b[0;34m[\u001b[0m\u001b[0;34m\"usecols\"\u001b[0m\u001b[0;34m]\u001b[0m \u001b[0;34m=\u001b[0m \u001b[0mself\u001b[0m\u001b[0;34m.\u001b[0m\u001b[0musecols\u001b[0m\u001b[0;34m\u001b[0m\u001b[0;34m\u001b[0m\u001b[0m\n\u001b[1;32m   1890\u001b[0m \u001b[0;34m\u001b[0m\u001b[0m\n\u001b[0;32m-> 1891\u001b[0;31m         \u001b[0mself\u001b[0m\u001b[0;34m.\u001b[0m\u001b[0m_reader\u001b[0m \u001b[0;34m=\u001b[0m \u001b[0mparsers\u001b[0m\u001b[0;34m.\u001b[0m\u001b[0mTextReader\u001b[0m\u001b[0;34m(\u001b[0m\u001b[0msrc\u001b[0m\u001b[0;34m,\u001b[0m \u001b[0;34m**\u001b[0m\u001b[0mkwds\u001b[0m\u001b[0;34m)\u001b[0m\u001b[0;34m\u001b[0m\u001b[0;34m\u001b[0m\u001b[0m\n\u001b[0m\u001b[1;32m   1892\u001b[0m         \u001b[0mself\u001b[0m\u001b[0;34m.\u001b[0m\u001b[0munnamed_cols\u001b[0m \u001b[0;34m=\u001b[0m \u001b[0mself\u001b[0m\u001b[0;34m.\u001b[0m\u001b[0m_reader\u001b[0m\u001b[0;34m.\u001b[0m\u001b[0munnamed_cols\u001b[0m\u001b[0;34m\u001b[0m\u001b[0;34m\u001b[0m\u001b[0m\n\u001b[1;32m   1893\u001b[0m \u001b[0;34m\u001b[0m\u001b[0m\n",
      "\u001b[0;32mpandas/_libs/parsers.pyx\u001b[0m in \u001b[0;36mpandas._libs.parsers.TextReader.__cinit__\u001b[0;34m()\u001b[0m\n",
      "\u001b[0;32mpandas/_libs/parsers.pyx\u001b[0m in \u001b[0;36mpandas._libs.parsers.TextReader._setup_parser_source\u001b[0;34m()\u001b[0m\n",
      "\u001b[0;31mFileNotFoundError\u001b[0m: [Errno 2] File /content/empdata.csv does not exist: '/content/empdata.csv'"
     ]
    }
   ],
   "source": [
    "import pandas as pd\n",
    "df = pd.read_csv(\"/content/empdata.csv\")\n",
    "print(df.head())\n",
    "print(df.shape)\n"
   ]
  },
  {
   "cell_type": "markdown",
   "id": "4617f57e",
   "metadata": {
    "colab_type": "text",
    "id": "dVYMs6mYIZAe"
   },
   "source": [
    "2. Retrieve a range of rows "
   ]
  },
  {
   "cell_type": "code",
   "execution_count": null,
   "id": "e0a62b25",
   "metadata": {
    "colab": {
     "base_uri": "https://localhost:8080/",
     "height": 138
    },
    "colab_type": "code",
    "executionInfo": {
     "elapsed": 1294,
     "status": "ok",
     "timestamp": 1598593596151,
     "user": {
      "displayName": "Alamelumangai Jothidurai",
      "photoUrl": "",
      "userId": "16336246361902186406"
     },
     "user_tz": -330
    },
    "id": "gtCsHC-RLWBl",
    "outputId": "6b2d3607-638d-4b5a-8ecb-53e065910a20"
   },
   "outputs": [
    {
     "data": {
      "text/html": [
       "<div>\n",
       "<style scoped>\n",
       "    .dataframe tbody tr th:only-of-type {\n",
       "        vertical-align: middle;\n",
       "    }\n",
       "\n",
       "    .dataframe tbody tr th {\n",
       "        vertical-align: top;\n",
       "    }\n",
       "\n",
       "    .dataframe thead th {\n",
       "        text-align: right;\n",
       "    }\n",
       "</style>\n",
       "<table border=\"1\" class=\"dataframe\">\n",
       "  <thead>\n",
       "    <tr style=\"text-align: right;\">\n",
       "      <th></th>\n",
       "      <th>Empid</th>\n",
       "      <th>Ename</th>\n",
       "      <th>Salary</th>\n",
       "      <th>DOJ</th>\n",
       "    </tr>\n",
       "  </thead>\n",
       "  <tbody>\n",
       "    <tr>\n",
       "      <th>0</th>\n",
       "      <td>1001</td>\n",
       "      <td>Ganesh</td>\n",
       "      <td>1000.00</td>\n",
       "      <td>10-10-2000</td>\n",
       "    </tr>\n",
       "    <tr>\n",
       "      <th>2</th>\n",
       "      <td>1003</td>\n",
       "      <td>Gaurav</td>\n",
       "      <td>NaN</td>\n",
       "      <td>03-03-2002</td>\n",
       "    </tr>\n",
       "    <tr>\n",
       "      <th>4</th>\n",
       "      <td>1005</td>\n",
       "      <td>Laxmi Prasanna</td>\n",
       "      <td>12000.75</td>\n",
       "      <td>10-08-2000</td>\n",
       "    </tr>\n",
       "  </tbody>\n",
       "</table>\n",
       "</div>"
      ],
      "text/plain": [
       "   Empid           Ename    Salary         DOJ\n",
       "0   1001          Ganesh   1000.00  10-10-2000\n",
       "2   1003          Gaurav       NaN  03-03-2002\n",
       "4   1005  Laxmi Prasanna  12000.75  10-08-2000"
      ]
     },
     "execution_count": 32,
     "metadata": {
      "tags": []
     },
     "output_type": "execute_result"
    }
   ],
   "source": [
    "#to retrieve the third row at index 2\n",
    "#df[2:3]\n",
    "#to retrieve alternate rows\n",
    "df[: : 2]"
   ]
  },
  {
   "cell_type": "markdown",
   "id": "0eabdb6e",
   "metadata": {
    "colab_type": "text",
    "id": "ONnaIvgvSK9N"
   },
   "source": [
    "3. To retrieve column names"
   ]
  },
  {
   "cell_type": "code",
   "execution_count": null,
   "id": "3af0b77f",
   "metadata": {
    "colab": {
     "base_uri": "https://localhost:8080/",
     "height": 34
    },
    "colab_type": "code",
    "executionInfo": {
     "elapsed": 1102,
     "status": "ok",
     "timestamp": 1598593600866,
     "user": {
      "displayName": "Alamelumangai Jothidurai",
      "photoUrl": "",
      "userId": "16336246361902186406"
     },
     "user_tz": -330
    },
    "id": "805khYN9SOBC",
    "outputId": "982f2904-e658-4bc8-f835-5b7b3881108d"
   },
   "outputs": [
    {
     "data": {
      "text/plain": [
       "Index(['Empid', 'Ename', 'Salary', 'DOJ'], dtype='object')"
      ]
     },
     "execution_count": 33,
     "metadata": {
      "tags": []
     },
     "output_type": "execute_result"
    }
   ],
   "source": [
    "df.columns"
   ]
  },
  {
   "cell_type": "markdown",
   "id": "7bfd1b61",
   "metadata": {
    "colab_type": "text",
    "id": "USNJ4OHOSTMm"
   },
   "source": [
    "4. To retrieve column data"
   ]
  },
  {
   "cell_type": "code",
   "execution_count": null,
   "id": "b5b69969",
   "metadata": {
    "colab": {
     "base_uri": "https://localhost:8080/",
     "height": 138
    },
    "colab_type": "code",
    "executionInfo": {
     "elapsed": 1390,
     "status": "ok",
     "timestamp": 1598590125451,
     "user": {
      "displayName": "Alamelumangai Jothidurai",
      "photoUrl": "",
      "userId": "16336246361902186406"
     },
     "user_tz": -330
    },
    "id": "j-3r751aSV3_",
    "outputId": "9a216695-2f64-4565-a1b2-f23a88ad890b"
   },
   "outputs": [
    {
     "data": {
      "text/plain": [
       "0    1001\n",
       "1    1002\n",
       "2    1003\n",
       "3    1004\n",
       "4    1005\n",
       "5    1006\n",
       "Name: Empid, dtype: int64"
      ]
     },
     "execution_count": 5,
     "metadata": {
      "tags": []
     },
     "output_type": "execute_result"
    }
   ],
   "source": [
    "df.Empid"
   ]
  },
  {
   "cell_type": "markdown",
   "id": "709d568c",
   "metadata": {
    "colab_type": "text",
    "id": "izDn6nqvUWxv"
   },
   "source": [
    "5. To retrieve a set of columns"
   ]
  },
  {
   "cell_type": "code",
   "execution_count": null,
   "id": "f469def0",
   "metadata": {
    "colab": {
     "base_uri": "https://localhost:8080/",
     "height": 228
    },
    "colab_type": "code",
    "executionInfo": {
     "elapsed": 1112,
     "status": "ok",
     "timestamp": 1598593605867,
     "user": {
      "displayName": "Alamelumangai Jothidurai",
      "photoUrl": "",
      "userId": "16336246361902186406"
     },
     "user_tz": -330
    },
    "id": "nyHOZ32CUbUu",
    "outputId": "07e06365-fac6-4968-81fc-f15c0e2c4106"
   },
   "outputs": [
    {
     "data": {
      "text/html": [
       "<div>\n",
       "<style scoped>\n",
       "    .dataframe tbody tr th:only-of-type {\n",
       "        vertical-align: middle;\n",
       "    }\n",
       "\n",
       "    .dataframe tbody tr th {\n",
       "        vertical-align: top;\n",
       "    }\n",
       "\n",
       "    .dataframe thead th {\n",
       "        text-align: right;\n",
       "    }\n",
       "</style>\n",
       "<table border=\"1\" class=\"dataframe\">\n",
       "  <thead>\n",
       "    <tr style=\"text-align: right;\">\n",
       "      <th></th>\n",
       "      <th>Empid</th>\n",
       "      <th>Ename</th>\n",
       "    </tr>\n",
       "  </thead>\n",
       "  <tbody>\n",
       "    <tr>\n",
       "      <th>0</th>\n",
       "      <td>1001</td>\n",
       "      <td>Ganesh</td>\n",
       "    </tr>\n",
       "    <tr>\n",
       "      <th>1</th>\n",
       "      <td>1002</td>\n",
       "      <td>Anil</td>\n",
       "    </tr>\n",
       "    <tr>\n",
       "      <th>2</th>\n",
       "      <td>1003</td>\n",
       "      <td>Gaurav</td>\n",
       "    </tr>\n",
       "    <tr>\n",
       "      <th>3</th>\n",
       "      <td>1004</td>\n",
       "      <td>Hema Chandra</td>\n",
       "    </tr>\n",
       "    <tr>\n",
       "      <th>4</th>\n",
       "      <td>1005</td>\n",
       "      <td>Laxmi Prasanna</td>\n",
       "    </tr>\n",
       "    <tr>\n",
       "      <th>5</th>\n",
       "      <td>1006</td>\n",
       "      <td>Anant</td>\n",
       "    </tr>\n",
       "  </tbody>\n",
       "</table>\n",
       "</div>"
      ],
      "text/plain": [
       "   Empid           Ename\n",
       "0   1001          Ganesh\n",
       "1   1002            Anil\n",
       "2   1003          Gaurav\n",
       "3   1004    Hema Chandra\n",
       "4   1005  Laxmi Prasanna\n",
       "5   1006          Anant "
      ]
     },
     "execution_count": 34,
     "metadata": {
      "tags": []
     },
     "output_type": "execute_result"
    }
   ],
   "source": [
    "df[['Empid','Ename']]"
   ]
  },
  {
   "cell_type": "markdown",
   "id": "c8d6eb2f",
   "metadata": {
    "colab_type": "text",
    "id": "KIER0YK-XwNC"
   },
   "source": [
    "Check for duplicates and remove them"
   ]
  },
  {
   "cell_type": "code",
   "execution_count": null,
   "id": "95cb72ab",
   "metadata": {
    "colab": {
     "base_uri": "https://localhost:8080/",
     "height": 69
    },
    "colab_type": "code",
    "executionInfo": {
     "elapsed": 2187,
     "status": "ok",
     "timestamp": 1598593617309,
     "user": {
      "displayName": "Alamelumangai Jothidurai",
      "photoUrl": "",
      "userId": "16336246361902186406"
     },
     "user_tz": -330
    },
    "id": "xqNzJiUwXzRj",
    "outputId": "9ae8a65e-6a8e-4ac1-eefb-2f9f09886609"
   },
   "outputs": [
    {
     "name": "stdout",
     "output_type": "stream",
     "text": [
      "Dimensions of the original frame (6, 4)\n",
      "Dimensions of the frame with duplicates (12, 4)\n",
      "Dimensions of the frame after removing duplicates (6, 4)\n"
     ]
    }
   ],
   "source": [
    "df1 = df.append(df)\n",
    "print('Dimensions of the original frame', df.shape)\n",
    "print('Dimensions of the frame with duplicates', df1.shape)\n",
    "#remove the duplicates\n",
    "df1 = df1.drop_duplicates()   #or use this statement df1.drop_duplicates(inplace = True)\n",
    "print('Dimensions of the frame after removing duplicates', df1.shape)\n",
    "\n"
   ]
  },
  {
   "cell_type": "code",
   "execution_count": null,
   "id": "0e696d30",
   "metadata": {
    "colab": {
     "base_uri": "https://localhost:8080/",
     "height": 34
    },
    "colab_type": "code",
    "executionInfo": {
     "elapsed": 1208,
     "status": "ok",
     "timestamp": 1598593622469,
     "user": {
      "displayName": "Alamelumangai Jothidurai",
      "photoUrl": "",
      "userId": "16336246361902186406"
     },
     "user_tz": -330
    },
    "id": "L9qgbeYmZpBx",
    "outputId": "e6da12f2-e6fd-43b1-cd86-b29517766ca5"
   },
   "outputs": [
    {
     "name": "stdout",
     "output_type": "stream",
     "text": [
      "Index(['EMPID', 'ENAME', 'SALARY', 'DOJ'], dtype='object')\n"
     ]
    }
   ],
   "source": [
    "#change all column names to Upper case\n",
    "df.columns = [i.upper() for i in df]\n",
    "print(df.columns)"
   ]
  },
  {
   "cell_type": "markdown",
   "id": "5b13b742",
   "metadata": {
    "colab_type": "text",
    "id": "PwqALMsJc_De"
   },
   "source": [
    "Handling missing values\n"
   ]
  },
  {
   "cell_type": "code",
   "execution_count": null,
   "id": "6daed2bb",
   "metadata": {
    "colab": {
     "base_uri": "https://localhost:8080/",
     "height": 242
    },
    "colab_type": "code",
    "executionInfo": {
     "elapsed": 1355,
     "status": "ok",
     "timestamp": 1598593627490,
     "user": {
      "displayName": "Alamelumangai Jothidurai",
      "photoUrl": "",
      "userId": "16336246361902186406"
     },
     "user_tz": -330
    },
    "id": "bp1r_OVodC0P",
    "outputId": "a61fcbfd-84df-430d-f684-c6d5fb0f1415"
   },
   "outputs": [
    {
     "name": "stdout",
     "output_type": "stream",
     "text": [
      "   EMPID  ENAME  SALARY    DOJ\n",
      "0  False  False   False  False\n",
      "1  False  False   False  False\n",
      "2  False  False    True  False\n",
      "3  False  False   False  False\n",
      "4  False  False   False  False\n",
      "5  False  False   False  False\n",
      "The no. of nulls in each column is \n",
      " EMPID     0\n",
      "ENAME     0\n",
      "SALARY    1\n",
      "DOJ       0\n",
      "dtype: int64\n"
     ]
    }
   ],
   "source": [
    "print(df.isnull())    #output says salary is null for record at index 2\n",
    "print('The no. of nulls in each column is \\n',df.isnull().sum())   #this prints the number of nulls in each column\n",
    "#df.dropna(inplace = True)  #this will drop the row with atleast one missing vale\n",
    "#df.dropna(axis = 1, inplace = True) #this will drop the coulmn which has a missing value#"
   ]
  },
  {
   "cell_type": "code",
   "execution_count": null,
   "id": "c4031c67",
   "metadata": {
    "colab": {},
    "colab_type": "code",
    "id": "qxkS4H5Bc_rE"
   },
   "outputs": [],
   "source": []
  },
  {
   "cell_type": "markdown",
   "id": "e74b44c8",
   "metadata": {
    "colab_type": "text",
    "id": "oZdPBt-YU3BD"
   },
   "source": [
    "6. Find the highest and lowest salary"
   ]
  },
  {
   "cell_type": "code",
   "execution_count": null,
   "id": "508484a3",
   "metadata": {
    "colab": {
     "base_uri": "https://localhost:8080/",
     "height": 52
    },
    "colab_type": "code",
    "executionInfo": {
     "elapsed": 1031,
     "status": "ok",
     "timestamp": 1598593712815,
     "user": {
      "displayName": "Alamelumangai Jothidurai",
      "photoUrl": "",
      "userId": "16336246361902186406"
     },
     "user_tz": -330
    },
    "id": "PjtgZ4n6U7Nn",
    "outputId": "f5fedb28-5c70-46eb-894c-4fda3b1e4a70"
   },
   "outputs": [
    {
     "name": "stdout",
     "output_type": "stream",
     "text": [
      "Highest Salary is 23000.5\n",
      "Lowest Salary is 1000.0\n"
     ]
    }
   ],
   "source": [
    "print('Highest Salary is',df['SALARY'].max())\n",
    "print('Lowest Salary is', df['SALARY'].min())\n"
   ]
  },
  {
   "cell_type": "markdown",
   "id": "1dea7be4",
   "metadata": {
    "colab_type": "text",
    "id": "TtbB2IphZ22H"
   },
   "source": [
    "Display the details of employees whose salary is above 20000"
   ]
  },
  {
   "cell_type": "code",
   "execution_count": null,
   "id": "f6effcb4",
   "metadata": {
    "colab": {
     "base_uri": "https://localhost:8080/",
     "height": 78
    },
    "colab_type": "code",
    "executionInfo": {
     "elapsed": 1371,
     "status": "ok",
     "timestamp": 1598593841911,
     "user": {
      "displayName": "Alamelumangai Jothidurai",
      "photoUrl": "",
      "userId": "16336246361902186406"
     },
     "user_tz": -330
    },
    "id": "2MARsMTkZ852",
    "outputId": "4a637561-4486-4bf0-c5e5-28294ff85afb"
   },
   "outputs": [
    {
     "data": {
      "text/html": [
       "<div>\n",
       "<style scoped>\n",
       "    .dataframe tbody tr th:only-of-type {\n",
       "        vertical-align: middle;\n",
       "    }\n",
       "\n",
       "    .dataframe tbody tr th {\n",
       "        vertical-align: top;\n",
       "    }\n",
       "\n",
       "    .dataframe thead th {\n",
       "        text-align: right;\n",
       "    }\n",
       "</style>\n",
       "<table border=\"1\" class=\"dataframe\">\n",
       "  <thead>\n",
       "    <tr style=\"text-align: right;\">\n",
       "      <th></th>\n",
       "      <th>EMPID</th>\n",
       "      <th>ENAME</th>\n",
       "      <th>SALARY</th>\n",
       "      <th>DOJ</th>\n",
       "    </tr>\n",
       "  </thead>\n",
       "  <tbody>\n",
       "    <tr>\n",
       "      <th>1</th>\n",
       "      <td>1002</td>\n",
       "      <td>Anil</td>\n",
       "      <td>23000.5</td>\n",
       "      <td>3/20/2002</td>\n",
       "    </tr>\n",
       "  </tbody>\n",
       "</table>\n",
       "</div>"
      ],
      "text/plain": [
       "   EMPID ENAME   SALARY        DOJ\n",
       "1   1002  Anil  23000.5  3/20/2002"
      ]
     },
     "execution_count": 45,
     "metadata": {
      "tags": []
     },
     "output_type": "execute_result"
    }
   ],
   "source": [
    "df[df.SALARY > 20000]"
   ]
  },
  {
   "cell_type": "markdown",
   "id": "f22d5557",
   "metadata": {
    "colab_type": "text",
    "id": "SVHNNEUvaoIy"
   },
   "source": [
    "Display only the id and names of employees whose salary is greater than 20000"
   ]
  },
  {
   "cell_type": "code",
   "execution_count": null,
   "id": "5d370491",
   "metadata": {
    "colab": {
     "base_uri": "https://localhost:8080/",
     "height": 78
    },
    "colab_type": "code",
    "executionInfo": {
     "elapsed": 1574,
     "status": "ok",
     "timestamp": 1598593873867,
     "user": {
      "displayName": "Alamelumangai Jothidurai",
      "photoUrl": "",
      "userId": "16336246361902186406"
     },
     "user_tz": -330
    },
    "id": "uf3RNECuau_4",
    "outputId": "3adc60ae-3c4d-408c-ce38-828c23637d10"
   },
   "outputs": [
    {
     "data": {
      "text/html": [
       "<div>\n",
       "<style scoped>\n",
       "    .dataframe tbody tr th:only-of-type {\n",
       "        vertical-align: middle;\n",
       "    }\n",
       "\n",
       "    .dataframe tbody tr th {\n",
       "        vertical-align: top;\n",
       "    }\n",
       "\n",
       "    .dataframe thead th {\n",
       "        text-align: right;\n",
       "    }\n",
       "</style>\n",
       "<table border=\"1\" class=\"dataframe\">\n",
       "  <thead>\n",
       "    <tr style=\"text-align: right;\">\n",
       "      <th></th>\n",
       "      <th>EMPID</th>\n",
       "      <th>ENAME</th>\n",
       "    </tr>\n",
       "  </thead>\n",
       "  <tbody>\n",
       "    <tr>\n",
       "      <th>1</th>\n",
       "      <td>1002</td>\n",
       "      <td>Anil</td>\n",
       "    </tr>\n",
       "  </tbody>\n",
       "</table>\n",
       "</div>"
      ],
      "text/plain": [
       "   EMPID ENAME\n",
       "1   1002  Anil"
      ]
     },
     "execution_count": 47,
     "metadata": {
      "tags": []
     },
     "output_type": "execute_result"
    }
   ],
   "source": [
    "df[['EMPID', 'ENAME']] [df.SALARY > 20000]"
   ]
  },
  {
   "cell_type": "markdown",
   "id": "6aaec1bd",
   "metadata": {
    "colab_type": "text",
    "id": "n0_H1wewa3DU"
   },
   "source": [
    "Display the Eid and name of the highest paid employee"
   ]
  },
  {
   "cell_type": "code",
   "execution_count": null,
   "id": "a00c3e43",
   "metadata": {
    "colab": {
     "base_uri": "https://localhost:8080/",
     "height": 78
    },
    "colab_type": "code",
    "executionInfo": {
     "elapsed": 1082,
     "status": "ok",
     "timestamp": 1598593900382,
     "user": {
      "displayName": "Alamelumangai Jothidurai",
      "photoUrl": "",
      "userId": "16336246361902186406"
     },
     "user_tz": -330
    },
    "id": "imom2nadbBsI",
    "outputId": "b1f16163-b0f7-4e45-c2b7-130110da710d"
   },
   "outputs": [
    {
     "data": {
      "text/html": [
       "<div>\n",
       "<style scoped>\n",
       "    .dataframe tbody tr th:only-of-type {\n",
       "        vertical-align: middle;\n",
       "    }\n",
       "\n",
       "    .dataframe tbody tr th {\n",
       "        vertical-align: top;\n",
       "    }\n",
       "\n",
       "    .dataframe thead th {\n",
       "        text-align: right;\n",
       "    }\n",
       "</style>\n",
       "<table border=\"1\" class=\"dataframe\">\n",
       "  <thead>\n",
       "    <tr style=\"text-align: right;\">\n",
       "      <th></th>\n",
       "      <th>EMPID</th>\n",
       "      <th>ENAME</th>\n",
       "    </tr>\n",
       "  </thead>\n",
       "  <tbody>\n",
       "    <tr>\n",
       "      <th>1</th>\n",
       "      <td>1002</td>\n",
       "      <td>Anil</td>\n",
       "    </tr>\n",
       "  </tbody>\n",
       "</table>\n",
       "</div>"
      ],
      "text/plain": [
       "   EMPID ENAME\n",
       "1   1002  Anil"
      ]
     },
     "execution_count": 48,
     "metadata": {
      "tags": []
     },
     "output_type": "execute_result"
    }
   ],
   "source": [
    "df[['EMPID','ENAME']] [df.SALARY == df.SALARY.max()]"
   ]
  },
  {
   "cell_type": "markdown",
   "id": "e7cb610e",
   "metadata": {
    "colab_type": "text",
    "id": "4wspGjaTbVxB"
   },
   "source": [
    "Display the enames whose salary is above the average salary"
   ]
  },
  {
   "cell_type": "code",
   "execution_count": null,
   "id": "d34fd085",
   "metadata": {
    "colab": {
     "base_uri": "https://localhost:8080/",
     "height": 86
    },
    "colab_type": "code",
    "executionInfo": {
     "elapsed": 1080,
     "status": "ok",
     "timestamp": 1598593937518,
     "user": {
      "displayName": "Alamelumangai Jothidurai",
      "photoUrl": "",
      "userId": "16336246361902186406"
     },
     "user_tz": -330
    },
    "id": "atHHZW5cbQx_",
    "outputId": "66c8454d-f417-4593-89e0-a9d4ed404686"
   },
   "outputs": [
    {
     "name": "stdout",
     "output_type": "stream",
     "text": [
      "Average Salary is 12500.348\n"
     ]
    },
    {
     "data": {
      "text/plain": [
       "1            Anil\n",
       "3    Hema Chandra\n",
       "Name: ENAME, dtype: object"
      ]
     },
     "execution_count": 50,
     "metadata": {
      "tags": []
     },
     "output_type": "execute_result"
    }
   ],
   "source": [
    "print('Average Salary is', df.SALARY.mean())\n",
    "df['ENAME'][df.SALARY > df.SALARY.mean()]\n"
   ]
  },
  {
   "cell_type": "markdown",
   "id": "3bb5fa46",
   "metadata": {
    "colab_type": "text",
    "id": "D5FtoB-bcrra"
   },
   "source": [
    "Sort in ascending order of DOJ and store the result in another frame"
   ]
  },
  {
   "cell_type": "code",
   "execution_count": null,
   "id": "e3f0d93e",
   "metadata": {
    "colab": {
     "base_uri": "https://localhost:8080/",
     "height": 484
    },
    "colab_type": "code",
    "executionInfo": {
     "elapsed": 1187,
     "status": "ok",
     "timestamp": 1598593947177,
     "user": {
      "displayName": "Alamelumangai Jothidurai",
      "photoUrl": "",
      "userId": "16336246361902186406"
     },
     "user_tz": -330
    },
    "id": "BI67kdaueQ3m",
    "outputId": "ecafcf48-b56b-48b0-c4f5-d2ad5cad1371"
   },
   "outputs": [
    {
     "name": "stdout",
     "output_type": "stream",
     "text": [
      "<class 'pandas.core.frame.DataFrame'>\n",
      "Int64Index: 6 entries, 0 to 5\n",
      "Data columns (total 4 columns):\n",
      " #   Column  Non-Null Count  Dtype         \n",
      "---  ------  --------------  -----         \n",
      " 0   Empid   6 non-null      int64         \n",
      " 1   Ename   6 non-null      object        \n",
      " 2   Salary  5 non-null      float64       \n",
      " 3   DOJ     6 non-null      datetime64[ns]\n",
      "dtypes: datetime64[ns](1), float64(1), int64(1), object(1)\n",
      "memory usage: 240.0+ bytes\n",
      "Frame before sorting\n",
      "    Empid           Ename    Salary        DOJ\n",
      "0   1001          Ganesh   1000.00 2000-10-10\n",
      "1   1002            Anil  23000.50 2002-03-20\n",
      "2   1003          Gaurav       NaN 2002-03-03\n",
      "3   1004    Hema Chandra  16500.50 2000-09-10\n",
      "4   1005  Laxmi Prasanna  12000.75 2000-10-08\n",
      "5   1006          Anant    9999.99 1999-09-09\n",
      "Frame after sorting\n",
      "    Empid           Ename    Salary        DOJ\n",
      "5   1006          Anant    9999.99 1999-09-09\n",
      "3   1004    Hema Chandra  16500.50 2000-09-10\n",
      "4   1005  Laxmi Prasanna  12000.75 2000-10-08\n",
      "0   1001          Ganesh   1000.00 2000-10-10\n",
      "2   1003          Gaurav       NaN 2002-03-03\n",
      "1   1002            Anil  23000.50 2002-03-20\n"
     ]
    }
   ],
   "source": [
    "#df1 = df.sort_values(\"DOJ\")\n",
    "#df.info()\n",
    "#df1 = df\n",
    "#df1.info()\n",
    "df1['DOJ'] = pd.to_datetime(df1['DOJ'])    #convert DOJ to date type\n",
    "df1.info()\n",
    "print('Frame before sorting\\n', df1)\n",
    "df1.sort_values(\"DOJ\", inplace = True)\n",
    "print('Frame after sorting\\n', df1)\n",
    "\n"
   ]
  },
  {
   "cell_type": "markdown",
   "id": "0b7ee145",
   "metadata": {
    "colab_type": "text",
    "id": "IWe2gljIg2oV"
   },
   "source": [
    "Sort in descending order of dates"
   ]
  },
  {
   "cell_type": "code",
   "execution_count": null,
   "id": "93449f2d",
   "metadata": {
    "colab": {
     "base_uri": "https://localhost:8080/",
     "height": 228
    },
    "colab_type": "code",
    "executionInfo": {
     "elapsed": 1235,
     "status": "ok",
     "timestamp": 1598593960702,
     "user": {
      "displayName": "Alamelumangai Jothidurai",
      "photoUrl": "",
      "userId": "16336246361902186406"
     },
     "user_tz": -330
    },
    "id": "a5xx5dKjl-pT",
    "outputId": "addd637d-25d8-4700-9787-e36f1cdf7158"
   },
   "outputs": [
    {
     "data": {
      "text/html": [
       "<div>\n",
       "<style scoped>\n",
       "    .dataframe tbody tr th:only-of-type {\n",
       "        vertical-align: middle;\n",
       "    }\n",
       "\n",
       "    .dataframe tbody tr th {\n",
       "        vertical-align: top;\n",
       "    }\n",
       "\n",
       "    .dataframe thead th {\n",
       "        text-align: right;\n",
       "    }\n",
       "</style>\n",
       "<table border=\"1\" class=\"dataframe\">\n",
       "  <thead>\n",
       "    <tr style=\"text-align: right;\">\n",
       "      <th></th>\n",
       "      <th>Empid</th>\n",
       "      <th>Ename</th>\n",
       "      <th>Salary</th>\n",
       "      <th>DOJ</th>\n",
       "    </tr>\n",
       "  </thead>\n",
       "  <tbody>\n",
       "    <tr>\n",
       "      <th>1</th>\n",
       "      <td>1002</td>\n",
       "      <td>Anil</td>\n",
       "      <td>23000.50</td>\n",
       "      <td>2002-03-20</td>\n",
       "    </tr>\n",
       "    <tr>\n",
       "      <th>2</th>\n",
       "      <td>1003</td>\n",
       "      <td>Gaurav</td>\n",
       "      <td>NaN</td>\n",
       "      <td>2002-03-03</td>\n",
       "    </tr>\n",
       "    <tr>\n",
       "      <th>0</th>\n",
       "      <td>1001</td>\n",
       "      <td>Ganesh</td>\n",
       "      <td>1000.00</td>\n",
       "      <td>2000-10-10</td>\n",
       "    </tr>\n",
       "    <tr>\n",
       "      <th>4</th>\n",
       "      <td>1005</td>\n",
       "      <td>Laxmi Prasanna</td>\n",
       "      <td>12000.75</td>\n",
       "      <td>2000-10-08</td>\n",
       "    </tr>\n",
       "    <tr>\n",
       "      <th>3</th>\n",
       "      <td>1004</td>\n",
       "      <td>Hema Chandra</td>\n",
       "      <td>16500.50</td>\n",
       "      <td>2000-09-10</td>\n",
       "    </tr>\n",
       "    <tr>\n",
       "      <th>5</th>\n",
       "      <td>1006</td>\n",
       "      <td>Anant</td>\n",
       "      <td>9999.99</td>\n",
       "      <td>1999-09-09</td>\n",
       "    </tr>\n",
       "  </tbody>\n",
       "</table>\n",
       "</div>"
      ],
      "text/plain": [
       "   Empid           Ename    Salary        DOJ\n",
       "1   1002            Anil  23000.50 2002-03-20\n",
       "2   1003          Gaurav       NaN 2002-03-03\n",
       "0   1001          Ganesh   1000.00 2000-10-10\n",
       "4   1005  Laxmi Prasanna  12000.75 2000-10-08\n",
       "3   1004    Hema Chandra  16500.50 2000-09-10\n",
       "5   1006          Anant    9999.99 1999-09-09"
      ]
     },
     "execution_count": 52,
     "metadata": {
      "tags": []
     },
     "output_type": "execute_result"
    }
   ],
   "source": [
    "df1.sort_values(\"DOJ\", ascending = False, inplace = True)\n",
    "df1"
   ]
  },
  {
   "cell_type": "markdown",
   "id": "5d7e11b6",
   "metadata": {
    "colab_type": "text",
    "id": "haT4z5P4oKMt"
   },
   "source": [
    "Sort DOJ in descending and salary in ascending order"
   ]
  },
  {
   "cell_type": "code",
   "execution_count": null,
   "id": "ddd78e2b",
   "metadata": {
    "colab": {
     "base_uri": "https://localhost:8080/",
     "height": 228
    },
    "colab_type": "code",
    "executionInfo": {
     "elapsed": 1210,
     "status": "ok",
     "timestamp": 1598594105451,
     "user": {
      "displayName": "Alamelumangai Jothidurai",
      "photoUrl": "",
      "userId": "16336246361902186406"
     },
     "user_tz": -330
    },
    "id": "KB9ClhojoQf3",
    "outputId": "878db71d-57b0-497e-9ba6-3cd0fcba078a"
   },
   "outputs": [
    {
     "data": {
      "text/html": [
       "<div>\n",
       "<style scoped>\n",
       "    .dataframe tbody tr th:only-of-type {\n",
       "        vertical-align: middle;\n",
       "    }\n",
       "\n",
       "    .dataframe tbody tr th {\n",
       "        vertical-align: top;\n",
       "    }\n",
       "\n",
       "    .dataframe thead th {\n",
       "        text-align: right;\n",
       "    }\n",
       "</style>\n",
       "<table border=\"1\" class=\"dataframe\">\n",
       "  <thead>\n",
       "    <tr style=\"text-align: right;\">\n",
       "      <th></th>\n",
       "      <th>Empid</th>\n",
       "      <th>Ename</th>\n",
       "      <th>Salary</th>\n",
       "      <th>DOJ</th>\n",
       "    </tr>\n",
       "  </thead>\n",
       "  <tbody>\n",
       "    <tr>\n",
       "      <th>1</th>\n",
       "      <td>1002</td>\n",
       "      <td>Anil</td>\n",
       "      <td>23000.50</td>\n",
       "      <td>2002-03-20</td>\n",
       "    </tr>\n",
       "    <tr>\n",
       "      <th>2</th>\n",
       "      <td>1003</td>\n",
       "      <td>Gaurav</td>\n",
       "      <td>NaN</td>\n",
       "      <td>2002-03-03</td>\n",
       "    </tr>\n",
       "    <tr>\n",
       "      <th>0</th>\n",
       "      <td>1001</td>\n",
       "      <td>Ganesh</td>\n",
       "      <td>1000.00</td>\n",
       "      <td>2000-10-10</td>\n",
       "    </tr>\n",
       "    <tr>\n",
       "      <th>4</th>\n",
       "      <td>1005</td>\n",
       "      <td>Laxmi Prasanna</td>\n",
       "      <td>12000.75</td>\n",
       "      <td>2000-10-08</td>\n",
       "    </tr>\n",
       "    <tr>\n",
       "      <th>3</th>\n",
       "      <td>1004</td>\n",
       "      <td>Hema Chandra</td>\n",
       "      <td>16500.50</td>\n",
       "      <td>2000-09-10</td>\n",
       "    </tr>\n",
       "    <tr>\n",
       "      <th>5</th>\n",
       "      <td>1006</td>\n",
       "      <td>Anant</td>\n",
       "      <td>9999.99</td>\n",
       "      <td>1999-09-09</td>\n",
       "    </tr>\n",
       "  </tbody>\n",
       "</table>\n",
       "</div>"
      ],
      "text/plain": [
       "   Empid           Ename    Salary        DOJ\n",
       "1   1002            Anil  23000.50 2002-03-20\n",
       "2   1003          Gaurav       NaN 2002-03-03\n",
       "0   1001          Ganesh   1000.00 2000-10-10\n",
       "4   1005  Laxmi Prasanna  12000.75 2000-10-08\n",
       "3   1004    Hema Chandra  16500.50 2000-09-10\n",
       "5   1006          Anant    9999.99 1999-09-09"
      ]
     },
     "execution_count": 54,
     "metadata": {
      "tags": []
     },
     "output_type": "execute_result"
    }
   ],
   "source": [
    "df1.sort_values(by = ['DOJ', 'Salary'] , ascending = [False, True], inplace = True)\n",
    "df1"
   ]
  },
  {
   "cell_type": "markdown",
   "id": "baac5d13",
   "metadata": {
    "colab_type": "text",
    "id": "ij6hKg_HuHH_"
   },
   "source": [
    "Simple Linear Regression Using (OLS) Ordinary Least Squares method. Develop a regression model to predict Salary based on Percentage in Grade 10. \n"
   ]
  },
  {
   "cell_type": "code",
   "execution_count": 1,
   "id": "210b5b3f",
   "metadata": {
    "colab": {
     "base_uri": "https://localhost:8080/",
     "height": 73,
     "resources": {
      "http://localhost:8080/nbextensions/google.colab/files.js": {
       "data": "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",
       "headers": [
        [
         "content-type",
         "application/javascript"
        ]
       ],
       "ok": true,
       "status": 200,
       "status_text": ""
      }
     }
    },
    "colab_type": "code",
    "executionInfo": {
     "elapsed": 31970,
     "status": "ok",
     "timestamp": 1599560000385,
     "user": {
      "displayName": "Alamelumangai Jothidurai",
      "photoUrl": "",
      "userId": "16336246361902186406"
     },
     "user_tz": -330
    },
    "id": "jzNtp_tUefvQ",
    "outputId": "a91f81c8-c00f-4cf0-ea59-9d10a4acfd8f"
   },
   "outputs": [
    {
     "data": {
      "text/html": [
       "\n",
       "     <input type=\"file\" id=\"files-52558be3-d09a-48ee-bf5e-cbceeabc5249\" name=\"files[]\" multiple disabled\n",
       "        style=\"border:none\" />\n",
       "     <output id=\"result-52558be3-d09a-48ee-bf5e-cbceeabc5249\">\n",
       "      Upload widget is only available when the cell has been executed in the\n",
       "      current browser session. Please rerun this cell to enable.\n",
       "      </output>\n",
       "      <script src=\"/nbextensions/google.colab/files.js\"></script> "
      ],
      "text/plain": [
       "<IPython.core.display.HTML object>"
      ]
     },
     "metadata": {
      "tags": []
     },
     "output_type": "display_data"
    },
    {
     "name": "stdout",
     "output_type": "stream",
     "text": [
      "Saving MBA Salary.csv to MBA Salary.csv\n"
     ]
    }
   ],
   "source": [
    "#This code is to upload the data set from local drive into Colab\n",
    "from google.colab import files\n",
    "uploaded = files.upload()"
   ]
  },
  {
   "cell_type": "markdown",
   "id": "0fd5a9cc",
   "metadata": {
    "colab_type": "text",
    "id": "NaSe472ezunw"
   },
   "source": [
    "# 1.Import the MBA Salary dataset"
   ]
  },
  {
   "cell_type": "code",
   "execution_count": null,
   "id": "7e924611",
   "metadata": {
    "colab": {},
    "colab_type": "code",
    "id": "SsjkjN3OefnF"
   },
   "outputs": [],
   "source": []
  },
  {
   "cell_type": "code",
   "execution_count": 4,
   "id": "94192b6f",
   "metadata": {
    "colab": {
     "base_uri": "https://localhost:8080/",
     "height": 141
    },
    "colab_type": "code",
    "executionInfo": {
     "elapsed": 996,
     "status": "ok",
     "timestamp": 1599560906002,
     "user": {
      "displayName": "Alamelumangai Jothidurai",
      "photoUrl": "",
      "userId": "16336246361902186406"
     },
     "user_tz": -330
    },
    "id": "LKEQOYuTuGMs",
    "outputId": "a495195d-018b-4c9e-e678-42f005a96e62"
   },
   "outputs": [
    {
     "data": {
      "text/html": [
       "<div>\n",
       "<style scoped>\n",
       "    .dataframe tbody tr th:only-of-type {\n",
       "        vertical-align: middle;\n",
       "    }\n",
       "\n",
       "    .dataframe tbody tr th {\n",
       "        vertical-align: top;\n",
       "    }\n",
       "\n",
       "    .dataframe thead th {\n",
       "        text-align: right;\n",
       "    }\n",
       "</style>\n",
       "<table border=\"1\" class=\"dataframe\">\n",
       "  <thead>\n",
       "    <tr style=\"text-align: right;\">\n",
       "      <th></th>\n",
       "      <th>S. No.</th>\n",
       "      <th>Percentage in Grade 10</th>\n",
       "      <th>Salary</th>\n",
       "    </tr>\n",
       "  </thead>\n",
       "  <tbody>\n",
       "    <tr>\n",
       "      <th>0</th>\n",
       "      <td>1</td>\n",
       "      <td>62.00</td>\n",
       "      <td>270000</td>\n",
       "    </tr>\n",
       "    <tr>\n",
       "      <th>1</th>\n",
       "      <td>2</td>\n",
       "      <td>76.33</td>\n",
       "      <td>200000</td>\n",
       "    </tr>\n",
       "    <tr>\n",
       "      <th>2</th>\n",
       "      <td>3</td>\n",
       "      <td>72.00</td>\n",
       "      <td>240000</td>\n",
       "    </tr>\n",
       "  </tbody>\n",
       "</table>\n",
       "</div>"
      ],
      "text/plain": [
       "   S. No.  Percentage in Grade 10  Salary\n",
       "0       1                   62.00  270000\n",
       "1       2                   76.33  200000\n",
       "2       3                   72.00  240000"
      ]
     },
     "execution_count": 4,
     "metadata": {
      "tags": []
     },
     "output_type": "execute_result"
    }
   ],
   "source": [
    "#import the data from MBA Salary.csv\n",
    "import pandas as pd\n",
    "mba_salary_df = pd.read_csv('/content/MBA Salary.csv')\n",
    "mba_salary_df.head(3)\n"
   ]
  },
  {
   "cell_type": "code",
   "execution_count": 5,
   "id": "77f00c2a",
   "metadata": {
    "colab": {
     "base_uri": "https://localhost:8080/",
     "height": 193
    },
    "colab_type": "code",
    "executionInfo": {
     "elapsed": 1008,
     "status": "ok",
     "timestamp": 1599560937790,
     "user": {
      "displayName": "Alamelumangai Jothidurai",
      "photoUrl": "",
      "userId": "16336246361902186406"
     },
     "user_tz": -330
    },
    "id": "KhlbNYVYw2Jj",
    "outputId": "760b90fe-4efd-45ce-a283-fbc16b09744d"
   },
   "outputs": [
    {
     "name": "stdout",
     "output_type": "stream",
     "text": [
      "<class 'pandas.core.frame.DataFrame'>\n",
      "RangeIndex: 50 entries, 0 to 49\n",
      "Data columns (total 3 columns):\n",
      " #   Column                  Non-Null Count  Dtype  \n",
      "---  ------                  --------------  -----  \n",
      " 0   S. No.                  50 non-null     int64  \n",
      " 1   Percentage in Grade 10  50 non-null     float64\n",
      " 2   Salary                  50 non-null     int64  \n",
      "dtypes: float64(1), int64(2)\n",
      "memory usage: 1.3 KB\n"
     ]
    }
   ],
   "source": [
    "#print information about the data set\n",
    "mba_salary_df.info()"
   ]
  },
  {
   "cell_type": "code",
   "execution_count": null,
   "id": "1790bf7a",
   "metadata": {
    "colab": {
     "base_uri": "https://localhost:8080/",
     "height": 35
    },
    "colab_type": "code",
    "executionInfo": {
     "elapsed": 955,
     "status": "ok",
     "timestamp": 1599311844820,
     "user": {
      "displayName": "Alamelumangai Jothidurai",
      "photoUrl": "",
      "userId": "16336246361902186406"
     },
     "user_tz": -330
    },
    "id": "OfjhO_b9xFHk",
    "outputId": "0f089ad4-4e29-49a8-dad6-4b205239f37b"
   },
   "outputs": [
    {
     "data": {
      "text/plain": [
       "(50, 3)"
      ]
     },
     "execution_count": 8,
     "metadata": {
      "tags": []
     },
     "output_type": "execute_result"
    }
   ],
   "source": [
    "mba_salary_df.shape"
   ]
  },
  {
   "cell_type": "markdown",
   "id": "728121f9",
   "metadata": {
    "colab_type": "text",
    "id": "uj3dvlSCxOjd"
   },
   "source": [
    "# **2. Creating feature set X and the outcome variable Y. The statsmodel library is used for building statistical models. OLS API in statsmodel.api is used to estimate the parameters of simple linear regression. It takes two parameters Y and X. IN this data Y is Salary and X is Percentage in Grade 10. The OLS model estimates only the coefficient of X (Beta 1 or slope). To estimate Beta 0, a constant term of 1 needs to be added as a seperate column. This parameter is the intercept term.     **"
   ]
  },
  {
   "cell_type": "code",
   "execution_count": null,
   "id": "b648bd15",
   "metadata": {
    "colab": {
     "base_uri": "https://localhost:8080/",
     "height": 257
    },
    "colab_type": "code",
    "executionInfo": {
     "elapsed": 2342,
     "status": "ok",
     "timestamp": 1599311856636,
     "user": {
      "displayName": "Alamelumangai Jothidurai",
      "photoUrl": "",
      "userId": "16336246361902186406"
     },
     "user_tz": -330
    },
    "id": "EVKoaGfdyeO6",
    "outputId": "b4562efd-91dc-4996-d2c4-73edfcd70d34"
   },
   "outputs": [
    {
     "name": "stderr",
     "output_type": "stream",
     "text": [
      "/usr/local/lib/python3.6/dist-packages/statsmodels/tools/_testing.py:19: FutureWarning: pandas.util.testing is deprecated. Use the functions in the public API at pandas.testing instead.\n",
      "  import pandas.util.testing as tm\n"
     ]
    },
    {
     "data": {
      "text/html": [
       "<div>\n",
       "<style scoped>\n",
       "    .dataframe tbody tr th:only-of-type {\n",
       "        vertical-align: middle;\n",
       "    }\n",
       "\n",
       "    .dataframe tbody tr th {\n",
       "        vertical-align: top;\n",
       "    }\n",
       "\n",
       "    .dataframe thead th {\n",
       "        text-align: right;\n",
       "    }\n",
       "</style>\n",
       "<table border=\"1\" class=\"dataframe\">\n",
       "  <thead>\n",
       "    <tr style=\"text-align: right;\">\n",
       "      <th></th>\n",
       "      <th>const</th>\n",
       "      <th>Percentage in Grade 10</th>\n",
       "    </tr>\n",
       "  </thead>\n",
       "  <tbody>\n",
       "    <tr>\n",
       "      <th>0</th>\n",
       "      <td>1.0</td>\n",
       "      <td>62.00</td>\n",
       "    </tr>\n",
       "    <tr>\n",
       "      <th>1</th>\n",
       "      <td>1.0</td>\n",
       "      <td>76.33</td>\n",
       "    </tr>\n",
       "    <tr>\n",
       "      <th>2</th>\n",
       "      <td>1.0</td>\n",
       "      <td>72.00</td>\n",
       "    </tr>\n",
       "    <tr>\n",
       "      <th>3</th>\n",
       "      <td>1.0</td>\n",
       "      <td>60.00</td>\n",
       "    </tr>\n",
       "    <tr>\n",
       "      <th>4</th>\n",
       "      <td>1.0</td>\n",
       "      <td>61.00</td>\n",
       "    </tr>\n",
       "  </tbody>\n",
       "</table>\n",
       "</div>"
      ],
      "text/plain": [
       "   const  Percentage in Grade 10\n",
       "0    1.0                   62.00\n",
       "1    1.0                   76.33\n",
       "2    1.0                   72.00\n",
       "3    1.0                   60.00\n",
       "4    1.0                   61.00"
      ]
     },
     "execution_count": 9,
     "metadata": {
      "tags": []
     },
     "output_type": "execute_result"
    }
   ],
   "source": [
    "import statsmodels.api as sm\n",
    "X = sm.add_constant(mba_salary_df['Percentage in Grade 10'])\n",
    "X.head(5)"
   ]
  },
  {
   "cell_type": "markdown",
   "id": "28e43998",
   "metadata": {
    "colab_type": "text",
    "id": "Z_ndD1Y-zqRP"
   },
   "source": [
    "# 3. Create outcome Variable Y"
   ]
  },
  {
   "cell_type": "code",
   "execution_count": null,
   "id": "0bc78192",
   "metadata": {
    "colab": {
     "base_uri": "https://localhost:8080/",
     "height": 121
    },
    "colab_type": "code",
    "executionInfo": {
     "elapsed": 956,
     "status": "ok",
     "timestamp": 1599311864777,
     "user": {
      "displayName": "Alamelumangai Jothidurai",
      "photoUrl": "",
      "userId": "16336246361902186406"
     },
     "user_tz": -330
    },
    "id": "t7KZEp-hznDu",
    "outputId": "b9af90a4-f695-4fc8-a3e1-33aae701ff33"
   },
   "outputs": [
    {
     "data": {
      "text/plain": [
       "0    270000\n",
       "1    200000\n",
       "2    240000\n",
       "3    250000\n",
       "4    180000\n",
       "Name: Salary, dtype: int64"
      ]
     },
     "execution_count": 10,
     "metadata": {
      "tags": []
     },
     "output_type": "execute_result"
    }
   ],
   "source": [
    "Y = mba_salary_df['Salary']\n",
    "Y.head()"
   ]
  },
  {
   "cell_type": "markdown",
   "id": "4b7102b1",
   "metadata": {
    "colab_type": "text",
    "id": "F1VUjkGdy3gW"
   },
   "source": [
    "# 4. Split dataset into training and validation sets. Use 80% for training and 20% for validating"
   ]
  },
  {
   "cell_type": "code",
   "execution_count": null,
   "id": "03e1c177",
   "metadata": {
    "colab": {},
    "colab_type": "code",
    "id": "Msi_xx7oy9BM"
   },
   "outputs": [],
   "source": [
    "from sklearn.model_selection import train_test_split\n",
    "train_X, test_X, train_y, test_y = train_test_split(X,Y,train_size = 0.8, random_state = 100)\n"
   ]
  },
  {
   "cell_type": "markdown",
   "id": "aa4bd67e",
   "metadata": {
    "colab_type": "text",
    "id": "I3V0re-s0kr3"
   },
   "source": [
    "# 5. Fit the model"
   ]
  },
  {
   "cell_type": "code",
   "execution_count": null,
   "id": "a4d184ef",
   "metadata": {
    "colab": {},
    "colab_type": "code",
    "id": "-jsrx5jx0qi4"
   },
   "outputs": [],
   "source": [
    "mba_salary_lm = sm.OLS(train_y, train_X).fit()\n"
   ]
  },
  {
   "cell_type": "markdown",
   "id": "b7a6b51f",
   "metadata": {
    "colab_type": "text",
    "id": "G8DNjYm004xw"
   },
   "source": [
    "The fit() method on OLS, estimates the parameters and returns the model information such as model parameters(coefficients), acccuracy measures and residual values to the varibale mba_salary_lm"
   ]
  },
  {
   "cell_type": "markdown",
   "id": "7a94b116",
   "metadata": {
    "colab_type": "text",
    "id": "57ZSGDZx1Qml"
   },
   "source": [
    "# 6. Print the estimated parameters"
   ]
  },
  {
   "cell_type": "code",
   "execution_count": null,
   "id": "918b6fd2",
   "metadata": {
    "colab": {
     "base_uri": "https://localhost:8080/",
     "height": 69
    },
    "colab_type": "code",
    "executionInfo": {
     "elapsed": 1093,
     "status": "ok",
     "timestamp": 1599311882552,
     "user": {
      "displayName": "Alamelumangai Jothidurai",
      "photoUrl": "",
      "userId": "16336246361902186406"
     },
     "user_tz": -330
    },
    "id": "DpENwUGo1WSK",
    "outputId": "50b554d6-25f8-42ff-d659-b9f1fbf25865"
   },
   "outputs": [
    {
     "name": "stdout",
     "output_type": "stream",
     "text": [
      "const                     30587.285652\n",
      "Percentage in Grade 10     3560.587383\n",
      "dtype: float64\n"
     ]
    }
   ],
   "source": [
    "print(mba_salary_lm.params)"
   ]
  },
  {
   "cell_type": "markdown",
   "id": "48885582",
   "metadata": {
    "colab_type": "text",
    "id": "EeDkfU7S1j5T"
   },
   "source": [
    "Hence Beta 0 = 30587.285 and Beta 1 = 3560.587. The estimated model is MBA Salary = 30587.285652 + 3560.587383(Percentage in Grade 10)"
   ]
  },
  {
   "cell_type": "markdown",
   "id": "d1ff8629",
   "metadata": {
    "colab_type": "text",
    "id": "rpk8IvJj2WXF"
   },
   "source": [
    "# 7. Model Diagnostics - Printing the coefficient of determination R-Square"
   ]
  },
  {
   "cell_type": "code",
   "execution_count": null,
   "id": "af7982ee",
   "metadata": {
    "colab": {
     "base_uri": "https://localhost:8080/",
     "height": 381
    },
    "colab_type": "code",
    "executionInfo": {
     "elapsed": 1039,
     "status": "ok",
     "timestamp": 1599311887130,
     "user": {
      "displayName": "Alamelumangai Jothidurai",
      "photoUrl": "",
      "userId": "16336246361902186406"
     },
     "user_tz": -330
    },
    "id": "BUQ3nSr82hJ7",
    "outputId": "1459fe16-38bf-49b3-eaf0-1e9bcbe09a07"
   },
   "outputs": [
    {
     "name": "stdout",
     "output_type": "stream",
     "text": [
      "                          Results: Ordinary least squares\n",
      "===================================================================================\n",
      "Model:                    OLS                   Adj. R-squared:          0.190     \n",
      "Dependent Variable:       Salary                AIC:                     1008.8680 \n",
      "Date:                     2020-09-05 13:18      BIC:                     1012.2458 \n",
      "No. Observations:         40                    Log-Likelihood:          -502.43   \n",
      "Df Model:                 1                     F-statistic:             10.16     \n",
      "Df Residuals:             38                    Prob (F-statistic):      0.00287   \n",
      "R-squared:                0.211                 Scale:                   5.0121e+09\n",
      "-----------------------------------------------------------------------------------\n",
      "                         Coef.     Std.Err.    t    P>|t|     [0.025       0.975]  \n",
      "-----------------------------------------------------------------------------------\n",
      "const                  30587.2857 71869.4497 0.4256 0.6728 -114904.8089 176079.3802\n",
      "Percentage in Grade 10  3560.5874  1116.9258 3.1878 0.0029    1299.4892   5821.6855\n",
      "-----------------------------------------------------------------------------------\n",
      "Omnibus:                    2.048              Durbin-Watson:                 2.611\n",
      "Prob(Omnibus):              0.359              Jarque-Bera (JB):              1.724\n",
      "Skew:                       0.369              Prob(JB):                      0.422\n",
      "Kurtosis:                   2.300              Condition No.:                 413  \n",
      "===================================================================================\n",
      "\n"
     ]
    }
   ],
   "source": [
    "print(mba_salary_lm.summary2())"
   ]
  },
  {
   "cell_type": "markdown",
   "id": "65fecbd6",
   "metadata": {
    "colab_type": "text",
    "id": "0taszIh03BYV"
   },
   "source": [
    "Hence R Square of the model is 0.211. So the model explains 21.1% of the variation in salary. "
   ]
  },
  {
   "cell_type": "markdown",
   "id": "3bd7811a",
   "metadata": {
    "colab_type": "text",
    "id": "aVRGA7ap3vPQ"
   },
   "source": [
    "# 8. Model Diagnostics - Residual Analysis - variance of the residual has to be constant across different values of the predicted value (Y') - a property known as homoscedasticity. A non-constant variance of the residuals is known as heteroscedasticity - not desired. If there is heteroscedasticity, a residual plot between standardised residual values and standardised predicted values, will be funnel shaped. To standardize, subtract from mean and divide by standard deviation"
   ]
  },
  {
   "cell_type": "code",
   "execution_count": null,
   "id": "81e75a67",
   "metadata": {
    "colab": {
     "base_uri": "https://localhost:8080/",
     "height": 295
    },
    "colab_type": "code",
    "executionInfo": {
     "elapsed": 1310,
     "status": "ok",
     "timestamp": 1599311901986,
     "user": {
      "displayName": "Alamelumangai Jothidurai",
      "photoUrl": "",
      "userId": "16336246361902186406"
     },
     "user_tz": -330
    },
    "id": "i4_DqmVy49VH",
    "outputId": "8003ea45-b5c8-41f7-c8ce-c967442e2cec"
   },
   "outputs": [
    {
     "data": {
      "image/png": "[encoded data removed]",
      "text/plain": [
       "<Figure size 432x288 with 1 Axes>"
      ]
     },
     "metadata": {
      "needs_background": "light",
      "tags": []
     },
     "output_type": "display_data"
    }
   ],
   "source": [
    "import matplotlib.pyplot as plt\n",
    "\n",
    "def get_std_values(vals):\n",
    "  return(vals - vals.mean())/vals.std()\n",
    "  \n",
    "x_axis = get_std_values(mba_salary_lm.fittedvalues)\n",
    "y_axis = get_std_values(mba_salary_lm.resid)\n",
    "plt.scatter(x_axis, y_axis)\n",
    "plt.xlabel(\"Standardised Predicted values\")\n",
    "plt.ylabel(\"Standardised Residual Values\")\n",
    "plt.title(\"Residual Plot\")\n",
    "plt.show()"
   ]
  },
  {
   "cell_type": "markdown",
   "id": "77ab1372",
   "metadata": {
    "colab_type": "text",
    "id": "auveAIxa6ayJ"
   },
   "source": [
    "The residual plot is not funnel shaped. Hence residuals have constant variance."
   ]
  },
  {
   "cell_type": "markdown",
   "id": "e5955427",
   "metadata": {
    "colab_type": "text",
    "id": "_NlbJObh7Fhh"
   },
   "source": [
    "# 9. Model Diagnostics - Oulier Detection. Outliers are observations whose values show a large deviation from the mean value. Their presence can have a significant influence on the values of the regression coefficients. Hence we use Z-Score to identify their existence in the data. Any obervation with an Z-Score of more than 3.0 is an outlier. "
   ]
  },
  {
   "cell_type": "code",
   "execution_count": null,
   "id": "fad8990e",
   "metadata": {
    "colab": {
     "base_uri": "https://localhost:8080/",
     "height": 49
    },
    "colab_type": "code",
    "executionInfo": {
     "elapsed": 1292,
     "status": "ok",
     "timestamp": 1599311911612,
     "user": {
      "displayName": "Alamelumangai Jothidurai",
      "photoUrl": "",
      "userId": "16336246361902186406"
     },
     "user_tz": -330
    },
    "id": "jgL4yxry9dWY",
    "outputId": "8dbe9175-8735-4238-b269-b8c4bd099493"
   },
   "outputs": [
    {
     "data": {
      "text/html": [
       "<div>\n",
       "<style scoped>\n",
       "    .dataframe tbody tr th:only-of-type {\n",
       "        vertical-align: middle;\n",
       "    }\n",
       "\n",
       "    .dataframe tbody tr th {\n",
       "        vertical-align: top;\n",
       "    }\n",
       "\n",
       "    .dataframe thead th {\n",
       "        text-align: right;\n",
       "    }\n",
       "</style>\n",
       "<table border=\"1\" class=\"dataframe\">\n",
       "  <thead>\n",
       "    <tr style=\"text-align: right;\">\n",
       "      <th></th>\n",
       "      <th>S. No.</th>\n",
       "      <th>Percentage in Grade 10</th>\n",
       "      <th>Salary</th>\n",
       "      <th>z_score_salary</th>\n",
       "    </tr>\n",
       "  </thead>\n",
       "  <tbody>\n",
       "  </tbody>\n",
       "</table>\n",
       "</div>"
      ],
      "text/plain": [
       "Empty DataFrame\n",
       "Columns: [S. No., Percentage in Grade 10, Salary, z_score_salary]\n",
       "Index: []"
      ]
     },
     "execution_count": 16,
     "metadata": {
      "tags": []
     },
     "output_type": "execute_result"
    }
   ],
   "source": [
    "from scipy.stats import zscore\n",
    "mba_salary_df['z_score_salary'] = zscore(mba_salary_df.Salary)\n",
    "#mba_salary_df.head()\n",
    "mba_salary_df[(mba_salary_df.z_score_salary > 3.0)| (mba_salary_df.z_score_salary< -3.0)]\n"
   ]
  },
  {
   "cell_type": "markdown",
   "id": "bac6dca5",
   "metadata": {
    "colab_type": "text",
    "id": "fpobxerI_K2q"
   },
   "source": [
    "Hence there is no outlier"
   ]
  },
  {
   "cell_type": "markdown",
   "id": "d0f9e909",
   "metadata": {
    "colab_type": "text",
    "id": "VSHgExMuOV_w"
   },
   "source": [
    "# 10. Model Diagnostics - Finding highly influential Observations using Cook's distance. This distance measures how much the predicted value of the dependent variable changes for all observations on the sample when a particular observation is removed from the sample while estimating the regression parameters. get_influence() returns the influence of each observations and cook_distance variable provides Cook's distance measures. An observation with Cook's distance of more than 1 is highly influential.\n"
   ]
  },
  {
   "cell_type": "code",
   "execution_count": null,
   "id": "3d6ae3ff",
   "metadata": {
    "colab": {
     "base_uri": "https://localhost:8080/",
     "height": 334
    },
    "colab_type": "code",
    "executionInfo": {
     "elapsed": 1271,
     "status": "ok",
     "timestamp": 1599311976552,
     "user": {
      "displayName": "Alamelumangai Jothidurai",
      "photoUrl": "",
      "userId": "16336246361902186406"
     },
     "user_tz": -330
    },
    "id": "KkTHOSFbPrr4",
    "outputId": "4cf9cd2d-9693-478e-e08b-988f646ca635"
   },
   "outputs": [
    {
     "name": "stderr",
     "output_type": "stream",
     "text": [
      "/usr/local/lib/python3.6/dist-packages/ipykernel_launcher.py:4: UserWarning: In Matplotlib 3.3 individual lines on a stem plot will be added as a LineCollection instead of individual lines. This significantly improves the performance of a stem plot. To remove this warning and switch to the new behaviour, set the \"use_line_collection\" keyword argument to True.\n",
      "  after removing the cwd from sys.path.\n"
     ]
    },
    {
     "data": {
      "image/png": "[encoded data removed]",
      "text/plain": [
       "<Figure size 432x288 with 1 Axes>"
      ]
     },
     "metadata": {
      "needs_background": "light",
      "tags": []
     },
     "output_type": "display_data"
    }
   ],
   "source": [
    "import numpy as np\n",
    "mba_influence = mba_salary_lm.get_influence()\n",
    "(c,p) = mba_influence.cooks_distance\n",
    "plt.stem(np.arange(len(train_X)), np.round(c,3))\n",
    "plt.xlabel(\"Row Index\")\n",
    "plt.ylabel(\"Cooks Distance\")\n",
    "plt.show()"
   ]
  },
  {
   "cell_type": "markdown",
   "id": "b82bb5d5",
   "metadata": {
    "colab_type": "text",
    "id": "Ts4B--U-Sb_G"
   },
   "source": [
    "There is no observation with Cooks's distance > 1. Hence none of them are influential."
   ]
  },
  {
   "cell_type": "markdown",
   "id": "80ff6cde",
   "metadata": {
    "colab_type": "text",
    "id": "HNDFv02t_u6A"
   },
   "source": [
    "# 11. Making predictions on validation set and measuring accuracy - R-Squared and RMSE "
   ]
  },
  {
   "cell_type": "code",
   "execution_count": null,
   "id": "c89d5378",
   "metadata": {
    "colab": {
     "base_uri": "https://localhost:8080/",
     "height": 52
    },
    "colab_type": "code",
    "executionInfo": {
     "elapsed": 1225,
     "status": "ok",
     "timestamp": 1599311988206,
     "user": {
      "displayName": "Alamelumangai Jothidurai",
      "photoUrl": "",
      "userId": "16336246361902186406"
     },
     "user_tz": -330
    },
    "id": "c3rK-kX1AO_i",
    "outputId": "089c31b8-b0ae-477a-e3b4-8c260fce9bd6"
   },
   "outputs": [
    {
     "name": "stdout",
     "output_type": "stream",
     "text": [
      "R2 Score = 0.156645849742304\n",
      "RMSE =  73458.04348346895\n"
     ]
    }
   ],
   "source": [
    "import numpy as np\n",
    "from sklearn.metrics import r2_score, mean_squared_error\n",
    "pred_y = mba_salary_lm.predict(test_X)\n",
    "print('R2 Score =',np.abs(r2_score(test_y,pred_y)))\n",
    "print('RMSE = ', np.sqrt(mean_squared_error(test_y,pred_y)))"
   ]
  }
 ],
 "metadata": {
  "colab": {
   "provenance": []
  },
  "kernelspec": {
   "display_name": "Python 3",
   "language": "python",
   "name": "python3"
  },
  "language_info": {
   "codemirror_mode": {
    "name": "ipython",
    "version": 3
   },
   "file_extension": ".py",
   "mimetype": "text/x-python",
   "name": "python",
   "nbconvert_exporter": "python",
   "pygments_lexer": "ipython3",
   "version": "3.8.8"
  }
 },
 "nbformat": 4,
 "nbformat_minor": 5
}
